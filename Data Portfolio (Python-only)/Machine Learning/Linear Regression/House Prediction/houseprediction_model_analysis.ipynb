{
 "cells": [
  {
   "cell_type": "markdown",
   "metadata": {},
   "source": [
    "# Importing libraries and pre-processing of data"
   ]
  },
  {
   "cell_type": "code",
   "execution_count": 127,
   "metadata": {},
   "outputs": [],
   "source": [
    "import pandas as pd\n",
    "import matplotlib.pyplot as plt\n",
    "import seaborn as sns\n",
    "import numpy as np"
   ]
  },
  {
   "cell_type": "code",
   "execution_count": 128,
   "metadata": {},
   "outputs": [],
   "source": [
    "df = pd.read_csv('housepred.csv')"
   ]
  },
  {
   "cell_type": "code",
   "execution_count": 129,
   "metadata": {},
   "outputs": [
    {
     "data": {
      "text/plain": [
       "Lot No.     0\n",
       "Area        1\n",
       "Age         0\n",
       "Distance    0\n",
       "Price       1\n",
       "dtype: int64"
      ]
     },
     "execution_count": 129,
     "metadata": {},
     "output_type": "execute_result"
    }
   ],
   "source": [
    "df.isnull().sum() #checking for null values"
   ]
  },
  {
   "cell_type": "code",
   "execution_count": 130,
   "metadata": {},
   "outputs": [
    {
     "data": {
      "text/html": [
       "<div>\n",
       "<style scoped>\n",
       "    .dataframe tbody tr th:only-of-type {\n",
       "        vertical-align: middle;\n",
       "    }\n",
       "\n",
       "    .dataframe tbody tr th {\n",
       "        vertical-align: top;\n",
       "    }\n",
       "\n",
       "    .dataframe thead th {\n",
       "        text-align: right;\n",
       "    }\n",
       "</style>\n",
       "<table border=\"1\" class=\"dataframe\">\n",
       "  <thead>\n",
       "    <tr style=\"text-align: right;\">\n",
       "      <th></th>\n",
       "      <th>Lot No.</th>\n",
       "      <th>Area</th>\n",
       "      <th>Age</th>\n",
       "      <th>Distance</th>\n",
       "      <th>Price</th>\n",
       "    </tr>\n",
       "  </thead>\n",
       "  <tbody>\n",
       "    <tr>\n",
       "      <th>0</th>\n",
       "      <td>125</td>\n",
       "      <td>250.0</td>\n",
       "      <td>7</td>\n",
       "      <td>18</td>\n",
       "      <td>257.35</td>\n",
       "    </tr>\n",
       "    <tr>\n",
       "      <th>1</th>\n",
       "      <td>116</td>\n",
       "      <td>150.0</td>\n",
       "      <td>7</td>\n",
       "      <td>11</td>\n",
       "      <td>157.10</td>\n",
       "    </tr>\n",
       "    <tr>\n",
       "      <th>3</th>\n",
       "      <td>117</td>\n",
       "      <td>200.0</td>\n",
       "      <td>8</td>\n",
       "      <td>16</td>\n",
       "      <td>208.36</td>\n",
       "    </tr>\n",
       "    <tr>\n",
       "      <th>4</th>\n",
       "      <td>136</td>\n",
       "      <td>350.0</td>\n",
       "      <td>9</td>\n",
       "      <td>32</td>\n",
       "      <td>359.10</td>\n",
       "    </tr>\n",
       "    <tr>\n",
       "      <th>5</th>\n",
       "      <td>192</td>\n",
       "      <td>450.0</td>\n",
       "      <td>5</td>\n",
       "      <td>23</td>\n",
       "      <td>455.29</td>\n",
       "    </tr>\n",
       "    <tr>\n",
       "      <th>6</th>\n",
       "      <td>175</td>\n",
       "      <td>300.0</td>\n",
       "      <td>6</td>\n",
       "      <td>18</td>\n",
       "      <td>306.29</td>\n",
       "    </tr>\n",
       "    <tr>\n",
       "      <th>7</th>\n",
       "      <td>193</td>\n",
       "      <td>100.0</td>\n",
       "      <td>7</td>\n",
       "      <td>7</td>\n",
       "      <td>107.20</td>\n",
       "    </tr>\n",
       "    <tr>\n",
       "      <th>8</th>\n",
       "      <td>162</td>\n",
       "      <td>600.0</td>\n",
       "      <td>7</td>\n",
       "      <td>42</td>\n",
       "      <td>607.25</td>\n",
       "    </tr>\n",
       "    <tr>\n",
       "      <th>9</th>\n",
       "      <td>172</td>\n",
       "      <td>500.0</td>\n",
       "      <td>8</td>\n",
       "      <td>40</td>\n",
       "      <td>508.37</td>\n",
       "    </tr>\n",
       "    <tr>\n",
       "      <th>10</th>\n",
       "      <td>183</td>\n",
       "      <td>400.0</td>\n",
       "      <td>9</td>\n",
       "      <td>36</td>\n",
       "      <td>409.22</td>\n",
       "    </tr>\n",
       "    <tr>\n",
       "      <th>11</th>\n",
       "      <td>266</td>\n",
       "      <td>490.0</td>\n",
       "      <td>7</td>\n",
       "      <td>34</td>\n",
       "      <td>497.20</td>\n",
       "    </tr>\n",
       "    <tr>\n",
       "      <th>12</th>\n",
       "      <td>215</td>\n",
       "      <td>100.0</td>\n",
       "      <td>1</td>\n",
       "      <td>1</td>\n",
       "      <td>101.20</td>\n",
       "    </tr>\n",
       "    <tr>\n",
       "      <th>13</th>\n",
       "      <td>277</td>\n",
       "      <td>150.0</td>\n",
       "      <td>2</td>\n",
       "      <td>3</td>\n",
       "      <td>152.35</td>\n",
       "    </tr>\n",
       "    <tr>\n",
       "      <th>14</th>\n",
       "      <td>298</td>\n",
       "      <td>200.0</td>\n",
       "      <td>1</td>\n",
       "      <td>2</td>\n",
       "      <td>201.32</td>\n",
       "    </tr>\n",
       "    <tr>\n",
       "      <th>15</th>\n",
       "      <td>204</td>\n",
       "      <td>250.0</td>\n",
       "      <td>2</td>\n",
       "      <td>5</td>\n",
       "      <td>252.30</td>\n",
       "    </tr>\n",
       "    <tr>\n",
       "      <th>16</th>\n",
       "      <td>253</td>\n",
       "      <td>150.0</td>\n",
       "      <td>4</td>\n",
       "      <td>6</td>\n",
       "      <td>154.34</td>\n",
       "    </tr>\n",
       "    <tr>\n",
       "      <th>17</th>\n",
       "      <td>283</td>\n",
       "      <td>200.0</td>\n",
       "      <td>7</td>\n",
       "      <td>14</td>\n",
       "      <td>207.30</td>\n",
       "    </tr>\n",
       "    <tr>\n",
       "      <th>18</th>\n",
       "      <td>315</td>\n",
       "      <td>350.0</td>\n",
       "      <td>8</td>\n",
       "      <td>28</td>\n",
       "      <td>358.30</td>\n",
       "    </tr>\n",
       "    <tr>\n",
       "      <th>19</th>\n",
       "      <td>366</td>\n",
       "      <td>450.0</td>\n",
       "      <td>9</td>\n",
       "      <td>41</td>\n",
       "      <td>459.17</td>\n",
       "    </tr>\n",
       "    <tr>\n",
       "      <th>20</th>\n",
       "      <td>404</td>\n",
       "      <td>200.0</td>\n",
       "      <td>1</td>\n",
       "      <td>2</td>\n",
       "      <td>201.20</td>\n",
       "    </tr>\n",
       "    <tr>\n",
       "      <th>21</th>\n",
       "      <td>332</td>\n",
       "      <td>350.0</td>\n",
       "      <td>2</td>\n",
       "      <td>7</td>\n",
       "      <td>352.33</td>\n",
       "    </tr>\n",
       "    <tr>\n",
       "      <th>22</th>\n",
       "      <td>335</td>\n",
       "      <td>450.0</td>\n",
       "      <td>5</td>\n",
       "      <td>23</td>\n",
       "      <td>455.28</td>\n",
       "    </tr>\n",
       "    <tr>\n",
       "      <th>23</th>\n",
       "      <td>389</td>\n",
       "      <td>300.0</td>\n",
       "      <td>6</td>\n",
       "      <td>18</td>\n",
       "      <td>306.25</td>\n",
       "    </tr>\n",
       "    <tr>\n",
       "      <th>24</th>\n",
       "      <td>328</td>\n",
       "      <td>400.0</td>\n",
       "      <td>8</td>\n",
       "      <td>32</td>\n",
       "      <td>408.21</td>\n",
       "    </tr>\n",
       "    <tr>\n",
       "      <th>25</th>\n",
       "      <td>310</td>\n",
       "      <td>600.0</td>\n",
       "      <td>2</td>\n",
       "      <td>12</td>\n",
       "      <td>602.24</td>\n",
       "    </tr>\n",
       "    <tr>\n",
       "      <th>26</th>\n",
       "      <td>501</td>\n",
       "      <td>500.0</td>\n",
       "      <td>3</td>\n",
       "      <td>15</td>\n",
       "      <td>503.27</td>\n",
       "    </tr>\n",
       "    <tr>\n",
       "      <th>27</th>\n",
       "      <td>502</td>\n",
       "      <td>400.0</td>\n",
       "      <td>4</td>\n",
       "      <td>16</td>\n",
       "      <td>404.37</td>\n",
       "    </tr>\n",
       "    <tr>\n",
       "      <th>28</th>\n",
       "      <td>503</td>\n",
       "      <td>490.0</td>\n",
       "      <td>1</td>\n",
       "      <td>5</td>\n",
       "      <td>491.15</td>\n",
       "    </tr>\n",
       "  </tbody>\n",
       "</table>\n",
       "</div>"
      ],
      "text/plain": [
       "    Lot No.   Area  Age  Distance   Price\n",
       "0       125  250.0    7        18  257.35\n",
       "1       116  150.0    7        11  157.10\n",
       "3       117  200.0    8        16  208.36\n",
       "4       136  350.0    9        32  359.10\n",
       "5       192  450.0    5        23  455.29\n",
       "6       175  300.0    6        18  306.29\n",
       "7       193  100.0    7         7  107.20\n",
       "8       162  600.0    7        42  607.25\n",
       "9       172  500.0    8        40  508.37\n",
       "10      183  400.0    9        36  409.22\n",
       "11      266  490.0    7        34  497.20\n",
       "12      215  100.0    1         1  101.20\n",
       "13      277  150.0    2         3  152.35\n",
       "14      298  200.0    1         2  201.32\n",
       "15      204  250.0    2         5  252.30\n",
       "16      253  150.0    4         6  154.34\n",
       "17      283  200.0    7        14  207.30\n",
       "18      315  350.0    8        28  358.30\n",
       "19      366  450.0    9        41  459.17\n",
       "20      404  200.0    1         2  201.20\n",
       "21      332  350.0    2         7  352.33\n",
       "22      335  450.0    5        23  455.28\n",
       "23      389  300.0    6        18  306.25\n",
       "24      328  400.0    8        32  408.21\n",
       "25      310  600.0    2        12  602.24\n",
       "26      501  500.0    3        15  503.27\n",
       "27      502  400.0    4        16  404.37\n",
       "28      503  490.0    1         5  491.15"
      ]
     },
     "execution_count": 130,
     "metadata": {},
     "output_type": "execute_result"
    }
   ],
   "source": [
    "df = df.dropna() #cleaning the data of null values\n",
    "df # print dataframe"
   ]
  },
  {
   "cell_type": "markdown",
   "metadata": {},
   "source": [
    "# Correlation Heatmap of Dataset"
   ]
  },
  {
   "cell_type": "code",
   "execution_count": 131,
   "metadata": {},
   "outputs": [
    {
     "data": {
      "image/png": "[encoded data removed]",
      "text/plain": [
       "<Figure size 792x576 with 2 Axes>"
      ]
     },
     "metadata": {
      "needs_background": "light"
     },
     "output_type": "display_data"
    }
   ],
   "source": [
    "plt.figure(figsize=(11,8))\n",
    "sns.heatmap(df.corr(), annot=True) #heatmap to correlate each column by pair\n",
    "plt.show()"
   ]
  },
  {
   "cell_type": "code",
   "execution_count": 132,
   "metadata": {},
   "outputs": [
    {
     "data": {
      "text/plain": [
       "<seaborn.axisgrid.PairGrid at 0x26caed05cd0>"
      ]
     },
     "execution_count": 132,
     "metadata": {},
     "output_type": "execute_result"
    },
    {
     "data": {
      "image/png": "[encoded data removed]",
      "text/plain": [
       "<Figure size 900x900 with 30 Axes>"
      ]
     },
     "metadata": {
      "needs_background": "light"
     },
     "output_type": "display_data"
    }
   ],
   "source": [
    "sns.pairplot(df) #scatterplot to show pair relationship"
   ]
  },
  {
   "cell_type": "markdown",
   "metadata": {},
   "source": [
    "# Dependent and Independent Variables"
   ]
  },
  {
   "cell_type": "code",
   "execution_count": 243,
   "metadata": {},
   "outputs": [],
   "source": [
    "X = df[['Area', 'Distance','Age']].values.reshape(-1,3) # independent variables\n",
    "# disregarding Lot No. as it only has a weak correlation with price values\n",
    "Y = df['Price'] # dependent variable"
   ]
  },
  {
   "cell_type": "markdown",
   "metadata": {},
   "source": [
    "# Splitting dataset into training and test sets"
   ]
  },
  {
   "cell_type": "code",
   "execution_count": 244,
   "metadata": {},
   "outputs": [],
   "source": [
    "from sklearn.model_selection import train_test_split\n",
    "X_train, X_test, Y_train, Y_test = train_test_split(X, Y, test_size=0.2, random_state=0)"
   ]
  },
  {
   "cell_type": "code",
   "execution_count": 245,
   "metadata": {},
   "outputs": [
    {
     "data": {
      "text/plain": [
       "((22, 3), (22,))"
      ]
     },
     "execution_count": 245,
     "metadata": {},
     "output_type": "execute_result"
    }
   ],
   "source": [
    "X_train.shape, Y_train.shape"
   ]
  },
  {
   "cell_type": "code",
   "execution_count": 246,
   "metadata": {},
   "outputs": [
    {
     "data": {
      "text/plain": [
       "((6, 3), (6,))"
      ]
     },
     "execution_count": 246,
     "metadata": {},
     "output_type": "execute_result"
    }
   ],
   "source": [
    "X_test.shape, Y_test.shape"
   ]
  },
  {
   "cell_type": "markdown",
   "metadata": {},
   "source": [
    "# Linear Regression Model"
   ]
  },
  {
   "cell_type": "code",
   "execution_count": 247,
   "metadata": {},
   "outputs": [],
   "source": [
    "from sklearn import linear_model\n",
    "model = linear_model.LinearRegression()\n",
    "model.fit(X_train,Y_train) #training the model \n",
    "Y_pred = model.predict(X_test) #containing predicted values from X_test values"
   ]
  },
  {
   "cell_type": "code",
   "execution_count": 248,
   "metadata": {},
   "outputs": [
    {
     "data": {
      "text/plain": [
       "array([208.20257242, 306.24250747, 252.29891321, 358.22676879,\n",
       "       306.24250747, 101.3484496 ])"
      ]
     },
     "execution_count": 248,
     "metadata": {},
     "output_type": "execute_result"
    }
   ],
   "source": [
    "Y_pred"
   ]
  },
  {
   "cell_type": "markdown",
   "metadata": {},
   "source": [
    "# Checking Performance of Model"
   ]
  },
  {
   "cell_type": "code",
   "execution_count": 249,
   "metadata": {},
   "outputs": [
    {
     "name": "stdout",
     "output_type": "stream",
     "text": [
      "Slope: [0.99971163 0.00562097 0.97123501]\n",
      "Intercept: 0.4004304764197286\n"
     ]
    }
   ],
   "source": [
    "from sklearn.metrics import mean_squared_error, r2_score\n",
    "print(\"Slope:\", model.coef_)\n",
    "print(\"Intercept:\", model.intercept_)"
   ]
  },
  {
   "cell_type": "code",
   "execution_count": 250,
   "metadata": {},
   "outputs": [
    {
     "data": {
      "text/plain": [
       "0.9999986951321892"
      ]
     },
     "execution_count": 250,
     "metadata": {},
     "output_type": "execute_result"
    }
   ],
   "source": [
    "r2_score(Y_test, Y_pred) #the closer to 1, the better"
   ]
  },
  {
   "cell_type": "code",
   "execution_count": 251,
   "metadata": {},
   "outputs": [
    {
     "data": {
      "text/plain": [
       "0.009082732737490393"
      ]
     },
     "execution_count": 251,
     "metadata": {},
     "output_type": "execute_result"
    }
   ],
   "source": [
    "mean_squared_error(Y_test, Y_pred) #the lower the value, the better"
   ]
  },
  {
   "cell_type": "code",
   "execution_count": 252,
   "metadata": {},
   "outputs": [
    {
     "name": "stdout",
     "output_type": "stream",
     "text": [
      "Train Score:  0.9999997608290263\n",
      "Test Score:  0.9999986951321892\n"
     ]
    }
   ],
   "source": [
    "print(\"Train Score: \", model.score(X_train, Y_train))\n",
    "print(\"Test Score: \", model.score(X_test, Y_test))"
   ]
  },
  {
   "cell_type": "code",
   "execution_count": 240,
   "metadata": {},
   "outputs": [
    {
     "data": {
      "text/plain": [
       "array([5.42232685])"
      ]
     },
     "execution_count": 240,
     "metadata": {},
     "output_type": "execute_result"
    }
   ],
   "source": [
    "Y_pred2 = model.predict(np.array([[0,0,0]]))\n",
    "Y_pred2"
   ]
  },
  {
   "cell_type": "code",
   "execution_count": 241,
   "metadata": {},
   "outputs": [
    {
     "data": {
      "text/plain": [
       "array([5.42232685, 5.42232685, 5.42232685])"
      ]
     },
     "execution_count": 241,
     "metadata": {},
     "output_type": "execute_result"
    }
   ],
   "source": [
    "y = model.coef_*(0,0,0) + model.intercept_\n",
    "y"
   ]
  },
  {
   "cell_type": "code",
   "execution_count": 242,
   "metadata": {},
   "outputs": [
    {
     "data": {
      "text/html": [
       "<div>\n",
       "<style scoped>\n",
       "    .dataframe tbody tr th:only-of-type {\n",
       "        vertical-align: middle;\n",
       "    }\n",
       "\n",
       "    .dataframe tbody tr th {\n",
       "        vertical-align: top;\n",
       "    }\n",
       "\n",
       "    .dataframe thead th {\n",
       "        text-align: right;\n",
       "    }\n",
       "</style>\n",
       "<table border=\"1\" class=\"dataframe\">\n",
       "  <thead>\n",
       "    <tr style=\"text-align: right;\">\n",
       "      <th></th>\n",
       "      <th>Actual</th>\n",
       "      <th>Predicted</th>\n",
       "    </tr>\n",
       "  </thead>\n",
       "  <tbody>\n",
       "    <tr>\n",
       "      <th>3</th>\n",
       "      <td>208.36</td>\n",
       "      <td>206.736746</td>\n",
       "    </tr>\n",
       "    <tr>\n",
       "      <th>23</th>\n",
       "      <td>306.25</td>\n",
       "      <td>305.531361</td>\n",
       "    </tr>\n",
       "    <tr>\n",
       "      <th>15</th>\n",
       "      <td>252.30</td>\n",
       "      <td>253.556018</td>\n",
       "    </tr>\n",
       "    <tr>\n",
       "      <th>18</th>\n",
       "      <td>358.30</td>\n",
       "      <td>357.456859</td>\n",
       "    </tr>\n",
       "    <tr>\n",
       "      <th>6</th>\n",
       "      <td>306.29</td>\n",
       "      <td>306.047098</td>\n",
       "    </tr>\n",
       "    <tr>\n",
       "      <th>12</th>\n",
       "      <td>101.20</td>\n",
       "      <td>104.129634</td>\n",
       "    </tr>\n",
       "  </tbody>\n",
       "</table>\n",
       "</div>"
      ],
      "text/plain": [
       "    Actual   Predicted\n",
       "3   208.36  206.736746\n",
       "23  306.25  305.531361\n",
       "15  252.30  253.556018\n",
       "18  358.30  357.456859\n",
       "6   306.29  306.047098\n",
       "12  101.20  104.129634"
      ]
     },
     "execution_count": 242,
     "metadata": {},
     "output_type": "execute_result"
    }
   ],
   "source": [
    "pd.DataFrame({'Actual': Y_test, 'Predicted': Y_pred}) #comparison between actual and predicted Y values"
   ]
  },
  {
   "cell_type": "markdown",
   "metadata": {},
   "source": [
    "# Analysis and Interpretation:\n",
    "\n",
    "> In terms of price, strong relationships can be found when paired with area and distance. Area has a perfect positive correlation (1.00) and distance has a strong positive correlation (0.65).\n",
    "\n",
    "> In terms of distance, strong relationships can be found when paired with price, age, and area. Price has a strong positive correlation (0.65), Age has a very strong positive correlation (0.85), and area has a strong positive correlation with area (0.64)\n",
    "\n",
    "> Age only has a strong relationship with distance, with a very strong positive correlation (0.85).\n",
    "\n",
    "> Area has a strong relationship with distance and price, with a strong positive correlation with distance (0.64) and a perfect positive correlation with price (1.00)\n",
    "\n",
    "> Lot no. has no strong relationships with price, age, area, or distance.\n",
    "\n",
    "> Slope values for area, distance, and age respectively are 0.99971163, 0.00562097, and 0.97123501. Meanwhile the intercept value is 0.4004304764197286.\n",
    "\n",
    "> The r-squared score is 0.9999986951321892 or 1 when rounded up, indicating that the model is approximately perfect or perfect. The mean squared error value is approximately 0.009, indicating that the model is great with minimal error.\n"
   ]
  },
  {
   "cell_type": "markdown",
   "metadata": {},
   "source": [
    "# Conclusion\n",
    "\n",
    "With the following EDA results, it is concluded that in order to predict the house price, the distance, area, and age values should be considered in creating the model. Distance and area values are to be considered due to its direct strong positive correlation with the price value, meaning if either or both of the two goes up or down, it will also significantly affect the rise and fall of house prices. As distance serves to be a signficant variable related to house prices, age is also considered due to its strong positive correlation with distance, making it such that an age value change will significantly impact distance, which indirectly affects price values significantly as well. The model that resulted from these variables has shown to be near perfect as seen from its r-squared score and mean squared error value. This makes it a great model to use for predicting house prices."
   ]
  },
  {
   "cell_type": "code",
   "execution_count": null,
   "metadata": {},
   "outputs": [],
   "source": []
  }
 ],
 "metadata": {
  "kernelspec": {
   "display_name": "Python 3",
   "language": "python",
   "name": "python3"
  },
  "language_info": {
   "codemirror_mode": {
    "name": "ipython",
    "version": 3
   },
   "file_extension": ".py",
   "mimetype": "text/x-python",
   "name": "python",
   "nbconvert_exporter": "python",
   "pygments_lexer": "ipython3",
   "version": "3.10.4"
  },
  "vscode": {
   "interpreter": {
    "hash": "369f2c481f4da34e4445cda3fffd2e751bd1c4d706f27375911949ba6bb62e1c"
   }
  }
 },
 "nbformat": 4,
 "nbformat_minor": 4
}
