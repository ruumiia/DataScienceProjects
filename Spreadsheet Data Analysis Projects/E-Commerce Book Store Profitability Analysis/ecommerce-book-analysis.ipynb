{
 "cells": [
  {
   "cell_type": "code",
   "execution_count": 1,
   "metadata": {},
   "outputs": [],
   "source": [
    "import pandas as pd"
   ]
  },
  {
   "cell_type": "code",
   "execution_count": 26,
   "metadata": {},
   "outputs": [
    {
     "data": {
      "text/html": [
       "<div>\n",
       "<style scoped>\n",
       "    .dataframe tbody tr th:only-of-type {\n",
       "        vertical-align: middle;\n",
       "    }\n",
       "\n",
       "    .dataframe tbody tr th {\n",
       "        vertical-align: top;\n",
       "    }\n",
       "\n",
       "    .dataframe thead th {\n",
       "        text-align: right;\n",
       "    }\n",
       "</style>\n",
       "<table border=\"1\" class=\"dataframe\">\n",
       "  <thead>\n",
       "    <tr style=\"text-align: right;\">\n",
       "      <th></th>\n",
       "      <th>UPC</th>\n",
       "      <th>Book Title</th>\n",
       "      <th>Genre</th>\n",
       "      <th>Price</th>\n",
       "      <th>Availability</th>\n",
       "      <th>Star Rating</th>\n",
       "    </tr>\n",
       "  </thead>\n",
       "  <tbody>\n",
       "    <tr>\n",
       "      <th>0</th>\n",
       "      <td>abeafe151a587d3b</td>\n",
       "      <td>The Long Shadow of Small Ghosts: Murder and Me...</td>\n",
       "      <td>Crime</td>\n",
       "      <td>10.97</td>\n",
       "      <td>15</td>\n",
       "      <td>1</td>\n",
       "    </tr>\n",
       "    <tr>\n",
       "      <th>1</th>\n",
       "      <td>88c21fcd38e2486e</td>\n",
       "      <td>Dark Notes</td>\n",
       "      <td>Erotica</td>\n",
       "      <td>19.19</td>\n",
       "      <td>15</td>\n",
       "      <td>5</td>\n",
       "    </tr>\n",
       "    <tr>\n",
       "      <th>2</th>\n",
       "      <td>bb8245f52c7cce8f</td>\n",
       "      <td>Amid the Chaos</td>\n",
       "      <td>Cultural</td>\n",
       "      <td>36.58</td>\n",
       "      <td>15</td>\n",
       "      <td>1</td>\n",
       "    </tr>\n",
       "    <tr>\n",
       "      <th>3</th>\n",
       "      <td>3968e3fbf4695d7c</td>\n",
       "      <td>Equal Is Unfair: America's Misguided Fight Aga...</td>\n",
       "      <td>Politics</td>\n",
       "      <td>56.86</td>\n",
       "      <td>12</td>\n",
       "      <td>1</td>\n",
       "    </tr>\n",
       "    <tr>\n",
       "      <th>4</th>\n",
       "      <td>2b5054a4192e9b06</td>\n",
       "      <td>Why the Right Went Wrong: Conservatism--From G...</td>\n",
       "      <td>Politics</td>\n",
       "      <td>52.65</td>\n",
       "      <td>14</td>\n",
       "      <td>4</td>\n",
       "    </tr>\n",
       "    <tr>\n",
       "      <th>...</th>\n",
       "      <td>...</td>\n",
       "      <td>...</td>\n",
       "      <td>...</td>\n",
       "      <td>...</td>\n",
       "      <td>...</td>\n",
       "      <td>...</td>\n",
       "    </tr>\n",
       "    <tr>\n",
       "      <th>995</th>\n",
       "      <td>a94350ee74deaa07</td>\n",
       "      <td>Under the Tuscan Sun</td>\n",
       "      <td>Travel</td>\n",
       "      <td>37.33</td>\n",
       "      <td>7</td>\n",
       "      <td>3</td>\n",
       "    </tr>\n",
       "    <tr>\n",
       "      <th>996</th>\n",
       "      <td>1809259a5a5f1d8d</td>\n",
       "      <td>Vagabonding: An Uncommon Guide to the Art of L...</td>\n",
       "      <td>Travel</td>\n",
       "      <td>36.94</td>\n",
       "      <td>8</td>\n",
       "      <td>2</td>\n",
       "    </tr>\n",
       "    <tr>\n",
       "      <th>997</th>\n",
       "      <td>f9705c362f070608</td>\n",
       "      <td>See America: A Celebration of Our National Par...</td>\n",
       "      <td>Travel</td>\n",
       "      <td>48.87</td>\n",
       "      <td>14</td>\n",
       "      <td>3</td>\n",
       "    </tr>\n",
       "    <tr>\n",
       "      <th>998</th>\n",
       "      <td>ce60436f52c5ee68</td>\n",
       "      <td>Full Moon over Noah’s Ark: An Odyssey to Mount...</td>\n",
       "      <td>Travel</td>\n",
       "      <td>49.43</td>\n",
       "      <td>15</td>\n",
       "      <td>4</td>\n",
       "    </tr>\n",
       "    <tr>\n",
       "      <th>999</th>\n",
       "      <td>a22124811bfa8350</td>\n",
       "      <td>It's Only the Himalayas</td>\n",
       "      <td>Travel</td>\n",
       "      <td>45.17</td>\n",
       "      <td>19</td>\n",
       "      <td>2</td>\n",
       "    </tr>\n",
       "  </tbody>\n",
       "</table>\n",
       "<p>1000 rows × 6 columns</p>\n",
       "</div>"
      ],
      "text/plain": [
       "                  UPC                                         Book Title  \\\n",
       "0    abeafe151a587d3b  The Long Shadow of Small Ghosts: Murder and Me...   \n",
       "1    88c21fcd38e2486e                                         Dark Notes   \n",
       "2    bb8245f52c7cce8f                                     Amid the Chaos   \n",
       "3    3968e3fbf4695d7c  Equal Is Unfair: America's Misguided Fight Aga...   \n",
       "4    2b5054a4192e9b06  Why the Right Went Wrong: Conservatism--From G...   \n",
       "..                ...                                                ...   \n",
       "995  a94350ee74deaa07                               Under the Tuscan Sun   \n",
       "996  1809259a5a5f1d8d  Vagabonding: An Uncommon Guide to the Art of L...   \n",
       "997  f9705c362f070608  See America: A Celebration of Our National Par...   \n",
       "998  ce60436f52c5ee68  Full Moon over Noah’s Ark: An Odyssey to Mount...   \n",
       "999  a22124811bfa8350                            It's Only the Himalayas   \n",
       "\n",
       "        Genre  Price  Availability  Star Rating  \n",
       "0       Crime  10.97            15            1  \n",
       "1     Erotica  19.19            15            5  \n",
       "2    Cultural  36.58            15            1  \n",
       "3    Politics  56.86            12            1  \n",
       "4    Politics  52.65            14            4  \n",
       "..        ...    ...           ...          ...  \n",
       "995    Travel  37.33             7            3  \n",
       "996    Travel  36.94             8            2  \n",
       "997    Travel  48.87            14            3  \n",
       "998    Travel  49.43            15            4  \n",
       "999    Travel  45.17            19            2  \n",
       "\n",
       "[1000 rows x 6 columns]"
      ]
     },
     "execution_count": 26,
     "metadata": {},
     "output_type": "execute_result"
    }
   ],
   "source": [
    "books = pd.read_csv(\"ecommerce_book_data_2023_03_18.csv\")\n",
    "books"
   ]
  },
  {
   "cell_type": "code",
   "execution_count": 27,
   "metadata": {},
   "outputs": [
    {
     "data": {
      "text/plain": [
       "(1000, 6)"
      ]
     },
     "execution_count": 27,
     "metadata": {},
     "output_type": "execute_result"
    }
   ],
   "source": [
    "books.shape # rows, columns"
   ]
  },
  {
   "cell_type": "code",
   "execution_count": 28,
   "metadata": {},
   "outputs": [
    {
     "data": {
      "text/plain": [
       "UPC             1000\n",
       "Book Title      1000\n",
       "Genre           1000\n",
       "Price           1000\n",
       "Availability    1000\n",
       "Star Rating     1000\n",
       "dtype: int64"
      ]
     },
     "execution_count": 28,
     "metadata": {},
     "output_type": "execute_result"
    }
   ],
   "source": [
    "books.count() # checking records"
   ]
  },
  {
   "cell_type": "code",
   "execution_count": 29,
   "metadata": {},
   "outputs": [
    {
     "data": {
      "text/plain": [
       "UPC             0\n",
       "Book Title      0\n",
       "Genre           0\n",
       "Price           0\n",
       "Availability    0\n",
       "Star Rating     0\n",
       "dtype: int64"
      ]
     },
     "execution_count": 29,
     "metadata": {},
     "output_type": "execute_result"
    }
   ],
   "source": [
    "books.isnull().sum() # checking null values"
   ]
  },
  {
   "cell_type": "code",
   "execution_count": 30,
   "metadata": {},
   "outputs": [
    {
     "data": {
      "text/html": [
       "<div>\n",
       "<style scoped>\n",
       "    .dataframe tbody tr th:only-of-type {\n",
       "        vertical-align: middle;\n",
       "    }\n",
       "\n",
       "    .dataframe tbody tr th {\n",
       "        vertical-align: top;\n",
       "    }\n",
       "\n",
       "    .dataframe thead th {\n",
       "        text-align: right;\n",
       "    }\n",
       "</style>\n",
       "<table border=\"1\" class=\"dataframe\">\n",
       "  <thead>\n",
       "    <tr style=\"text-align: right;\">\n",
       "      <th></th>\n",
       "      <th>Price</th>\n",
       "      <th>Availability</th>\n",
       "      <th>Star Rating</th>\n",
       "    </tr>\n",
       "  </thead>\n",
       "  <tbody>\n",
       "    <tr>\n",
       "      <th>count</th>\n",
       "      <td>1000.00000</td>\n",
       "      <td>1000.000000</td>\n",
       "      <td>1000.000000</td>\n",
       "    </tr>\n",
       "    <tr>\n",
       "      <th>mean</th>\n",
       "      <td>35.07035</td>\n",
       "      <td>8.585000</td>\n",
       "      <td>2.923000</td>\n",
       "    </tr>\n",
       "    <tr>\n",
       "      <th>std</th>\n",
       "      <td>14.44669</td>\n",
       "      <td>5.654622</td>\n",
       "      <td>1.434967</td>\n",
       "    </tr>\n",
       "    <tr>\n",
       "      <th>min</th>\n",
       "      <td>10.00000</td>\n",
       "      <td>1.000000</td>\n",
       "      <td>1.000000</td>\n",
       "    </tr>\n",
       "    <tr>\n",
       "      <th>25%</th>\n",
       "      <td>22.10750</td>\n",
       "      <td>3.000000</td>\n",
       "      <td>2.000000</td>\n",
       "    </tr>\n",
       "    <tr>\n",
       "      <th>50%</th>\n",
       "      <td>35.98000</td>\n",
       "      <td>7.000000</td>\n",
       "      <td>3.000000</td>\n",
       "    </tr>\n",
       "    <tr>\n",
       "      <th>75%</th>\n",
       "      <td>47.45750</td>\n",
       "      <td>14.000000</td>\n",
       "      <td>4.000000</td>\n",
       "    </tr>\n",
       "    <tr>\n",
       "      <th>max</th>\n",
       "      <td>59.99000</td>\n",
       "      <td>22.000000</td>\n",
       "      <td>5.000000</td>\n",
       "    </tr>\n",
       "  </tbody>\n",
       "</table>\n",
       "</div>"
      ],
      "text/plain": [
       "            Price  Availability  Star Rating\n",
       "count  1000.00000   1000.000000  1000.000000\n",
       "mean     35.07035      8.585000     2.923000\n",
       "std      14.44669      5.654622     1.434967\n",
       "min      10.00000      1.000000     1.000000\n",
       "25%      22.10750      3.000000     2.000000\n",
       "50%      35.98000      7.000000     3.000000\n",
       "75%      47.45750     14.000000     4.000000\n",
       "max      59.99000     22.000000     5.000000"
      ]
     },
     "execution_count": 30,
     "metadata": {},
     "output_type": "execute_result"
    }
   ],
   "source": [
    "books.describe() # checking"
   ]
  },
  {
   "cell_type": "code",
   "execution_count": 12,
   "metadata": {},
   "outputs": [
    {
     "data": {
      "text/plain": [
       "Genre         \n",
       "Default           152\n",
       "Nonfiction        110\n",
       "Sequential Art     75\n",
       "Add a comment      67\n",
       "Fiction            65\n",
       "Young Adult        54\n",
       "Fantasy            48\n",
       "Romance            35\n",
       "Mystery            32\n",
       "Food and Drink     30\n",
       "dtype: int64"
      ]
     },
     "execution_count": 12,
     "metadata": {},
     "output_type": "execute_result"
    }
   ],
   "source": [
    "books[[\"Genre\"]].value_counts().head(10) # top 10 genres with the most books available"
   ]
  },
  {
   "cell_type": "code",
   "execution_count": 19,
   "metadata": {},
   "outputs": [
    {
     "data": {
      "text/plain": [
       "Genre        \n",
       "Parenting        1\n",
       "Paranormal       1\n",
       "Short Stories    1\n",
       "Novels           1\n",
       "Crime            1\n",
       "Suspense         1\n",
       "Cultural         1\n",
       "Erotica          1\n",
       "Adult Fiction    1\n",
       "Academic         1\n",
       "dtype: int64"
      ]
     },
     "execution_count": 19,
     "metadata": {},
     "output_type": "execute_result"
    }
   ],
   "source": [
    "books[[\"Genre\"]].value_counts().tail(10) # top 10 genres with the least books available"
   ]
  },
  {
   "cell_type": "code",
   "execution_count": 16,
   "metadata": {},
   "outputs": [
    {
     "name": "stdout",
     "output_type": "stream",
     "text": [
      "The average book count overall by genre is: 20.0\n"
     ]
    }
   ],
   "source": [
    "genre_book_count_average = books[[\"Genre\"]].value_counts().mean() # getting average of all genre's book count\n",
    "print(\"The average book count overall by genre is:\", genre_book_count_average)"
   ]
  },
  {
   "cell_type": "code",
   "execution_count": 55,
   "metadata": {},
   "outputs": [
    {
     "data": {
      "text/plain": [
       "Default                True\n",
       "Nonfiction             True\n",
       "Sequential Art         True\n",
       "Add a comment          True\n",
       "Fiction                True\n",
       "Young Adult            True\n",
       "Fantasy                True\n",
       "Romance                True\n",
       "Mystery                True\n",
       "Food and Drink         True\n",
       "Childrens              True\n",
       "Historical Fiction     True\n",
       "Classics               True\n",
       "Poetry                 True\n",
       "History                True\n",
       "Horror                 True\n",
       "Womens Fiction         True\n",
       "Science Fiction        True\n",
       "Science               False\n",
       "Music                 False\n",
       "Business              False\n",
       "Travel                False\n",
       "Philosophy            False\n",
       "Thriller              False\n",
       "Humor                 False\n",
       "Autobiography         False\n",
       "Art                   False\n",
       "Religion              False\n",
       "Psychology            False\n",
       "New Adult             False\n",
       "Christian Fiction     False\n",
       "Spirituality          False\n",
       "Sports and Games      False\n",
       "Biography             False\n",
       "Self Help             False\n",
       "Health                False\n",
       "Politics              False\n",
       "Contemporary          False\n",
       "Christian             False\n",
       "Historical            False\n",
       "Paranormal            False\n",
       "Short Stories         False\n",
       "Cultural              False\n",
       "Novels                False\n",
       "Academic              False\n",
       "Suspense              False\n",
       "Erotica               False\n",
       "Adult Fiction         False\n",
       "Parenting             False\n",
       "Crime                 False\n",
       "Name: Genre, dtype: bool"
      ]
     },
     "execution_count": 55,
     "metadata": {},
     "output_type": "execute_result"
    }
   ],
   "source": [
    "books[\"Genre\"].value_counts() >= 15 # checking all genres with greater than or equal to 15 books "
   ]
  },
  {
   "cell_type": "code",
   "execution_count": 89,
   "metadata": {},
   "outputs": [
    {
     "data": {
      "text/plain": [
       "Genre             \n",
       "Default               152\n",
       "Nonfiction            110\n",
       "Sequential Art         75\n",
       "Add a comment          67\n",
       "Fiction                65\n",
       "Young Adult            54\n",
       "Fantasy                48\n",
       "Romance                35\n",
       "Mystery                32\n",
       "Food and Drink         30\n",
       "Childrens              29\n",
       "Historical Fiction     26\n",
       "Poetry                 19\n",
       "Classics               19\n",
       "History                18\n",
       "Horror                 17\n",
       "Womens Fiction         17\n",
       "Science Fiction        16\n",
       "dtype: int64"
      ]
     },
     "execution_count": 89,
     "metadata": {},
     "output_type": "execute_result"
    }
   ],
   "source": [
    "books[[\"Genre\"]].value_counts().head(18) # all genres with atleast 15 books"
   ]
  },
  {
   "cell_type": "code",
   "execution_count": 162,
   "metadata": {},
   "outputs": [],
   "source": [
    "# create a dataframe with genres and their corresponding number of books\n",
    "genre_data = {'genre': [\"Default\", \"Nonfiction\", \"Sequential Art\", \"Add a comment\", \"Fiction\", \"Young Adult\", \"Fantasy\", \"Romance\", \"Mystery\", \"Food and Drink\", \"Childrens\", \"Historical Fiction\", \"Poetry\", \"Classics\", \"History\", \"Horror\", \"Womens Fiction\", \"Science Fiction\"],\n",
    "        'book_count': [152, 110,75,67,65,54,48,35,32,30,29,26,19,19,18,17,17,16]} \n",
    "genre_data_df = pd.DataFrame(genre_data)\n",
    "\n",
    "random_books = pd.DataFrame() # create an empty dataframe to hold the randomized data"
   ]
  },
  {
   "cell_type": "code",
   "execution_count": 163,
   "metadata": {},
   "outputs": [],
   "source": [
    "# loop through the genres and randomly select books for each genre\n",
    "for genre in genre_data_df[\"genre\"]:\n",
    "    records = genre_data_df.loc[genre_data_df['genre'] == genre, 'book_count'].values[0]\n",
    "    samples_temp = books\n",
    "    \n",
    "    if records >= 20: # if genre has atleast 20 books\n",
    "        samples_temp = books[books.Genre == genre].sample(n=20)\n",
    "    elif records >= 15: # if a genre has 15-19 books\n",
    "        samples_temp = books[books.Genre == genre].sample(n=records)\n",
    "\n",
    "    random_books = pd.concat([random_books, samples_temp]) # selected records are added to the dataframe \n",
    "\n",
    "random_books.to_csv('randomized_books.csv', index=False) # export records to .csv file"
   ]
  },
  {
   "cell_type": "code",
   "execution_count": 166,
   "metadata": {},
   "outputs": [
    {
     "data": {
      "text/plain": [
       "Genre             \n",
       "Add a comment         20\n",
       "Historical Fiction    20\n",
       "Sequential Art        20\n",
       "Romance               20\n",
       "Nonfiction            20\n",
       "Mystery               20\n",
       "Childrens             20\n",
       "Young Adult           20\n",
       "Food and Drink        20\n",
       "Fiction               20\n",
       "Fantasy               20\n",
       "Default               20\n",
       "Poetry                19\n",
       "Classics              19\n",
       "History               18\n",
       "Womens Fiction        17\n",
       "Horror                17\n",
       "Science Fiction       16\n",
       "dtype: int64"
      ]
     },
     "execution_count": 166,
     "metadata": {},
     "output_type": "execute_result"
    }
   ],
   "source": [
    "random_books[[\"Genre\"]].value_counts() # display the count of books per genres inside the dataframe"
   ]
  },
  {
   "cell_type": "code",
   "execution_count": 165,
   "metadata": {},
   "outputs": [
    {
     "data": {
      "text/html": [
       "<div>\n",
       "<style scoped>\n",
       "    .dataframe tbody tr th:only-of-type {\n",
       "        vertical-align: middle;\n",
       "    }\n",
       "\n",
       "    .dataframe tbody tr th {\n",
       "        vertical-align: top;\n",
       "    }\n",
       "\n",
       "    .dataframe thead th {\n",
       "        text-align: right;\n",
       "    }\n",
       "</style>\n",
       "<table border=\"1\" class=\"dataframe\">\n",
       "  <thead>\n",
       "    <tr style=\"text-align: right;\">\n",
       "      <th></th>\n",
       "      <th>UPC</th>\n",
       "      <th>Book Title</th>\n",
       "      <th>Genre</th>\n",
       "      <th>Price</th>\n",
       "      <th>Availability</th>\n",
       "      <th>Star Rating</th>\n",
       "    </tr>\n",
       "  </thead>\n",
       "  <tbody>\n",
       "    <tr>\n",
       "      <th>436</th>\n",
       "      <td>d30b9215c72cca87</td>\n",
       "      <td>Wild: From Lost to Found on the Pacific Crest ...</td>\n",
       "      <td>Default</td>\n",
       "      <td>46.02</td>\n",
       "      <td>3</td>\n",
       "      <td>3</td>\n",
       "    </tr>\n",
       "    <tr>\n",
       "      <th>432</th>\n",
       "      <td>4266f48a0aa1c37d</td>\n",
       "      <td>The Maze Runner (The Maze Runner #1)</td>\n",
       "      <td>Default</td>\n",
       "      <td>20.93</td>\n",
       "      <td>3</td>\n",
       "      <td>1</td>\n",
       "    </tr>\n",
       "    <tr>\n",
       "      <th>541</th>\n",
       "      <td>e6af5bf1163c1151</td>\n",
       "      <td>Soul Reader</td>\n",
       "      <td>Default</td>\n",
       "      <td>39.58</td>\n",
       "      <td>16</td>\n",
       "      <td>2</td>\n",
       "    </tr>\n",
       "    <tr>\n",
       "      <th>487</th>\n",
       "      <td>bb967277222e689c</td>\n",
       "      <td>Adultery</td>\n",
       "      <td>Default</td>\n",
       "      <td>20.88</td>\n",
       "      <td>11</td>\n",
       "      <td>5</td>\n",
       "    </tr>\n",
       "    <tr>\n",
       "      <th>548</th>\n",
       "      <td>e10e1e165dc8be4a</td>\n",
       "      <td>The Boys in the Boat: Nine Americans and Their...</td>\n",
       "      <td>Default</td>\n",
       "      <td>22.60</td>\n",
       "      <td>19</td>\n",
       "      <td>4</td>\n",
       "    </tr>\n",
       "    <tr>\n",
       "      <th>...</th>\n",
       "      <td>...</td>\n",
       "      <td>...</td>\n",
       "      <td>...</td>\n",
       "      <td>...</td>\n",
       "      <td>...</td>\n",
       "      <td>...</td>\n",
       "    </tr>\n",
       "    <tr>\n",
       "      <th>396</th>\n",
       "      <td>18ad3ed896c7ce05</td>\n",
       "      <td>Join</td>\n",
       "      <td>Science Fiction</td>\n",
       "      <td>35.67</td>\n",
       "      <td>16</td>\n",
       "      <td>5</td>\n",
       "    </tr>\n",
       "    <tr>\n",
       "      <th>397</th>\n",
       "      <td>e30f54cea9b38190</td>\n",
       "      <td>Mesaerion: The Best Science Fiction Stories 18...</td>\n",
       "      <td>Science Fiction</td>\n",
       "      <td>37.59</td>\n",
       "      <td>19</td>\n",
       "      <td>1</td>\n",
       "    </tr>\n",
       "    <tr>\n",
       "      <th>382</th>\n",
       "      <td>6717a70913b3db79</td>\n",
       "      <td>Having the Barbarian's Baby (Ice Planet Barbar...</td>\n",
       "      <td>Science Fiction</td>\n",
       "      <td>34.96</td>\n",
       "      <td>1</td>\n",
       "      <td>4</td>\n",
       "    </tr>\n",
       "    <tr>\n",
       "      <th>390</th>\n",
       "      <td>3fc124f59f3068e4</td>\n",
       "      <td>Foundation (Foundation (Publication Order) #1)</td>\n",
       "      <td>Science Fiction</td>\n",
       "      <td>32.42</td>\n",
       "      <td>5</td>\n",
       "      <td>1</td>\n",
       "    </tr>\n",
       "    <tr>\n",
       "      <th>395</th>\n",
       "      <td>9270575728a13a61</td>\n",
       "      <td>William Shakespeare's Star Wars: Verily, A New...</td>\n",
       "      <td>Science Fiction</td>\n",
       "      <td>43.30</td>\n",
       "      <td>15</td>\n",
       "      <td>4</td>\n",
       "    </tr>\n",
       "  </tbody>\n",
       "</table>\n",
       "<p>346 rows × 6 columns</p>\n",
       "</div>"
      ],
      "text/plain": [
       "                  UPC                                         Book Title  \\\n",
       "436  d30b9215c72cca87  Wild: From Lost to Found on the Pacific Crest ...   \n",
       "432  4266f48a0aa1c37d               The Maze Runner (The Maze Runner #1)   \n",
       "541  e6af5bf1163c1151                                        Soul Reader   \n",
       "487  bb967277222e689c                                           Adultery   \n",
       "548  e10e1e165dc8be4a  The Boys in the Boat: Nine Americans and Their...   \n",
       "..                ...                                                ...   \n",
       "396  18ad3ed896c7ce05                                               Join   \n",
       "397  e30f54cea9b38190  Mesaerion: The Best Science Fiction Stories 18...   \n",
       "382  6717a70913b3db79  Having the Barbarian's Baby (Ice Planet Barbar...   \n",
       "390  3fc124f59f3068e4     Foundation (Foundation (Publication Order) #1)   \n",
       "395  9270575728a13a61  William Shakespeare's Star Wars: Verily, A New...   \n",
       "\n",
       "               Genre  Price  Availability  Star Rating  \n",
       "436          Default  46.02             3            3  \n",
       "432          Default  20.93             3            1  \n",
       "541          Default  39.58            16            2  \n",
       "487          Default  20.88            11            5  \n",
       "548          Default  22.60            19            4  \n",
       "..               ...    ...           ...          ...  \n",
       "396  Science Fiction  35.67            16            5  \n",
       "397  Science Fiction  37.59            19            1  \n",
       "382  Science Fiction  34.96             1            4  \n",
       "390  Science Fiction  32.42             5            1  \n",
       "395  Science Fiction  43.30            15            4  \n",
       "\n",
       "[346 rows x 6 columns]"
      ]
     },
     "execution_count": 165,
     "metadata": {},
     "output_type": "execute_result"
    }
   ],
   "source": [
    "random_books # print out the books"
   ]
  }
 ],
 "metadata": {
  "kernelspec": {
   "display_name": "Python 3",
   "language": "python",
   "name": "python3"
  },
  "language_info": {
   "codemirror_mode": {
    "name": "ipython",
    "version": 3
   },
   "file_extension": ".py",
   "mimetype": "text/x-python",
   "name": "python",
   "nbconvert_exporter": "python",
   "pygments_lexer": "ipython3",
   "version": "3.10.4"
  },
  "orig_nbformat": 4
 },
 "nbformat": 4,
 "nbformat_minor": 2
}
