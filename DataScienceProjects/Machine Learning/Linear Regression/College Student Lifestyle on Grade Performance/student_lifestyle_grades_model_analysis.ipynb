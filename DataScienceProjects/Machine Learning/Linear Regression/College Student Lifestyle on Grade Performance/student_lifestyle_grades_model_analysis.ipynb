{
 "cells": [
  {
   "cell_type": "markdown",
   "metadata": {},
   "source": [
    "# Importing libraries and pre-processing of data"
   ]
  },
  {
   "cell_type": "code",
   "execution_count": 464,
   "metadata": {},
   "outputs": [],
   "source": [
    "#include all necessary libraries\n",
    "import matplotlib.pyplot as plt\n",
    "import seaborn as sns\n",
    "import numpy as np\n",
    "import pandas as pd"
   ]
  },
  {
   "cell_type": "code",
   "execution_count": 465,
   "metadata": {
    "scrolled": false
   },
   "outputs": [
    {
     "data": {
      "text/html": [
       "<div>\n",
       "<style scoped>\n",
       "    .dataframe tbody tr th:only-of-type {\n",
       "        vertical-align: middle;\n",
       "    }\n",
       "\n",
       "    .dataframe tbody tr th {\n",
       "        vertical-align: top;\n",
       "    }\n",
       "\n",
       "    .dataframe thead th {\n",
       "        text-align: right;\n",
       "    }\n",
       "</style>\n",
       "<table border=\"1\" class=\"dataframe\">\n",
       "  <thead>\n",
       "    <tr style=\"text-align: right;\">\n",
       "      <th></th>\n",
       "      <th>Gender</th>\n",
       "      <th>Age</th>\n",
       "      <th>Course</th>\n",
       "      <th>Grade</th>\n",
       "      <th>Device use</th>\n",
       "      <th>Playtime</th>\n",
       "      <th>No. of Games</th>\n",
       "      <th>Schoolwork time</th>\n",
       "      <th>Meals</th>\n",
       "      <th>Outside</th>\n",
       "      <th>Social Media</th>\n",
       "      <th>Exercise</th>\n",
       "    </tr>\n",
       "  </thead>\n",
       "  <tbody>\n",
       "    <tr>\n",
       "      <th>1</th>\n",
       "      <td>Male</td>\n",
       "      <td>21</td>\n",
       "      <td>BSCS</td>\n",
       "      <td>93.33</td>\n",
       "      <td>10.000000</td>\n",
       "      <td>3.750000</td>\n",
       "      <td>4</td>\n",
       "      <td>9.0</td>\n",
       "      <td>Three meals and one snack time</td>\n",
       "      <td>0.500000</td>\n",
       "      <td>2.000000</td>\n",
       "      <td>0.666667</td>\n",
       "    </tr>\n",
       "    <tr>\n",
       "      <th>2</th>\n",
       "      <td>Male</td>\n",
       "      <td>21</td>\n",
       "      <td>BSECE</td>\n",
       "      <td>95.57</td>\n",
       "      <td>18.000000</td>\n",
       "      <td>6.000000</td>\n",
       "      <td>1</td>\n",
       "      <td>10.0</td>\n",
       "      <td>Two meals only (ex. lunch and dinner only || a...</td>\n",
       "      <td>0.333333</td>\n",
       "      <td>19.000000</td>\n",
       "      <td>0.250000</td>\n",
       "    </tr>\n",
       "    <tr>\n",
       "      <th>3</th>\n",
       "      <td>Male</td>\n",
       "      <td>20</td>\n",
       "      <td>BSECE</td>\n",
       "      <td>92.43</td>\n",
       "      <td>12.000000</td>\n",
       "      <td>5.500000</td>\n",
       "      <td>3</td>\n",
       "      <td>5.0</td>\n",
       "      <td>Three meals (ex. breakfast, lunch, and dinner ...</td>\n",
       "      <td>2.000000</td>\n",
       "      <td>18.000000</td>\n",
       "      <td>2.500000</td>\n",
       "    </tr>\n",
       "    <tr>\n",
       "      <th>4</th>\n",
       "      <td>Male</td>\n",
       "      <td>22</td>\n",
       "      <td>BSCS</td>\n",
       "      <td>96.33</td>\n",
       "      <td>15.500000</td>\n",
       "      <td>8.500000</td>\n",
       "      <td>3</td>\n",
       "      <td>3.0</td>\n",
       "      <td>Two meals only (ex. lunch and dinner only || a...</td>\n",
       "      <td>0.500000</td>\n",
       "      <td>15.500000</td>\n",
       "      <td>0.500000</td>\n",
       "    </tr>\n",
       "    <tr>\n",
       "      <th>5</th>\n",
       "      <td>Male</td>\n",
       "      <td>21</td>\n",
       "      <td>BSCS</td>\n",
       "      <td>96.11</td>\n",
       "      <td>7.733333</td>\n",
       "      <td>3.916667</td>\n",
       "      <td>3</td>\n",
       "      <td>2.0</td>\n",
       "      <td>Three meals and one snack time</td>\n",
       "      <td>1.083333</td>\n",
       "      <td>1.666667</td>\n",
       "      <td>0.750000</td>\n",
       "    </tr>\n",
       "    <tr>\n",
       "      <th>6</th>\n",
       "      <td>Female</td>\n",
       "      <td>21</td>\n",
       "      <td>BSIE</td>\n",
       "      <td>93.75</td>\n",
       "      <td>11.000000</td>\n",
       "      <td>1.000000</td>\n",
       "      <td>1</td>\n",
       "      <td>10.0</td>\n",
       "      <td>Three meals (ex. breakfast, lunch, and dinner ...</td>\n",
       "      <td>0.000000</td>\n",
       "      <td>3.000000</td>\n",
       "      <td>0.000000</td>\n",
       "    </tr>\n",
       "    <tr>\n",
       "      <th>7</th>\n",
       "      <td>Male</td>\n",
       "      <td>21</td>\n",
       "      <td>BSCS</td>\n",
       "      <td>88.56</td>\n",
       "      <td>14.000000</td>\n",
       "      <td>5.000000</td>\n",
       "      <td>10</td>\n",
       "      <td>7.0</td>\n",
       "      <td>Two meals only (ex. lunch and dinner only || a...</td>\n",
       "      <td>2.000000</td>\n",
       "      <td>10.000000</td>\n",
       "      <td>0.000000</td>\n",
       "    </tr>\n",
       "    <tr>\n",
       "      <th>8</th>\n",
       "      <td>Male</td>\n",
       "      <td>21</td>\n",
       "      <td>BSIT</td>\n",
       "      <td>86.38</td>\n",
       "      <td>12.000000</td>\n",
       "      <td>4.000000</td>\n",
       "      <td>3</td>\n",
       "      <td>9.0</td>\n",
       "      <td>Three meals (ex. breakfast, lunch, and dinner ...</td>\n",
       "      <td>6.000000</td>\n",
       "      <td>2.000000</td>\n",
       "      <td>3.000000</td>\n",
       "    </tr>\n",
       "    <tr>\n",
       "      <th>9</th>\n",
       "      <td>Male</td>\n",
       "      <td>21</td>\n",
       "      <td>BSCS</td>\n",
       "      <td>89.00</td>\n",
       "      <td>8.000000</td>\n",
       "      <td>8.000000</td>\n",
       "      <td>1</td>\n",
       "      <td>2.0</td>\n",
       "      <td>Two meals only (ex. lunch and dinner only || a...</td>\n",
       "      <td>1.000000</td>\n",
       "      <td>2.000000</td>\n",
       "      <td>1.000000</td>\n",
       "    </tr>\n",
       "    <tr>\n",
       "      <th>10</th>\n",
       "      <td>Male</td>\n",
       "      <td>21</td>\n",
       "      <td>BSCS</td>\n",
       "      <td>88.89</td>\n",
       "      <td>3.500000</td>\n",
       "      <td>2.000000</td>\n",
       "      <td>4</td>\n",
       "      <td>2.0</td>\n",
       "      <td>Three meals (ex. breakfast, lunch, and dinner ...</td>\n",
       "      <td>3.000000</td>\n",
       "      <td>0.500000</td>\n",
       "      <td>0.500000</td>\n",
       "    </tr>\n",
       "  </tbody>\n",
       "</table>\n",
       "</div>"
      ],
      "text/plain": [
       "    Gender  Age Course  Grade  Device use  Playtime  No. of Games  \\\n",
       "1     Male   21   BSCS  93.33   10.000000  3.750000             4   \n",
       "2     Male   21  BSECE  95.57   18.000000  6.000000             1   \n",
       "3     Male   20  BSECE  92.43   12.000000  5.500000             3   \n",
       "4     Male   22   BSCS  96.33   15.500000  8.500000             3   \n",
       "5     Male   21   BSCS  96.11    7.733333  3.916667             3   \n",
       "6   Female   21   BSIE  93.75   11.000000  1.000000             1   \n",
       "7     Male   21   BSCS  88.56   14.000000  5.000000            10   \n",
       "8     Male   21   BSIT  86.38   12.000000  4.000000             3   \n",
       "9     Male   21   BSCS  89.00    8.000000  8.000000             1   \n",
       "10    Male   21   BSCS  88.89    3.500000  2.000000             4   \n",
       "\n",
       "    Schoolwork time                                              Meals  \\\n",
       "1               9.0                     Three meals and one snack time   \n",
       "2              10.0  Two meals only (ex. lunch and dinner only || a...   \n",
       "3               5.0  Three meals (ex. breakfast, lunch, and dinner ...   \n",
       "4               3.0  Two meals only (ex. lunch and dinner only || a...   \n",
       "5               2.0                     Three meals and one snack time   \n",
       "6              10.0  Three meals (ex. breakfast, lunch, and dinner ...   \n",
       "7               7.0  Two meals only (ex. lunch and dinner only || a...   \n",
       "8               9.0  Three meals (ex. breakfast, lunch, and dinner ...   \n",
       "9               2.0  Two meals only (ex. lunch and dinner only || a...   \n",
       "10              2.0  Three meals (ex. breakfast, lunch, and dinner ...   \n",
       "\n",
       "     Outside  Social Media  Exercise  \n",
       "1   0.500000      2.000000  0.666667  \n",
       "2   0.333333     19.000000  0.250000  \n",
       "3   2.000000     18.000000  2.500000  \n",
       "4   0.500000     15.500000  0.500000  \n",
       "5   1.083333      1.666667  0.750000  \n",
       "6   0.000000      3.000000  0.000000  \n",
       "7   2.000000     10.000000  0.000000  \n",
       "8   6.000000      2.000000  3.000000  \n",
       "9   1.000000      2.000000  1.000000  \n",
       "10  3.000000      0.500000  0.500000  "
      ]
     },
     "execution_count": 465,
     "metadata": {},
     "output_type": "execute_result"
    }
   ],
   "source": [
    "df = pd.read_csv('survey_results.csv', index_col = 0) #reading the CSV file\n",
    "df.head(10)"
   ]
  },
  {
   "cell_type": "code",
   "execution_count": 466,
   "metadata": {},
   "outputs": [
    {
     "data": {
      "text/plain": [
       "(28, 12)"
      ]
     },
     "execution_count": 466,
     "metadata": {},
     "output_type": "execute_result"
    }
   ],
   "source": [
    "df.shape #checking number of rows and columns"
   ]
  },
  {
   "cell_type": "code",
   "execution_count": 467,
   "metadata": {},
   "outputs": [
    {
     "data": {
      "text/plain": [
       "Gender             0\n",
       "Age                0\n",
       "Course             0\n",
       "Grade              0\n",
       "Device use         0\n",
       "Playtime           0\n",
       "No. of Games       0\n",
       "Schoolwork time    0\n",
       "Meals              0\n",
       "Outside            0\n",
       "Social Media       0\n",
       "Exercise           0\n",
       "dtype: int64"
      ]
     },
     "execution_count": 467,
     "metadata": {},
     "output_type": "execute_result"
    }
   ],
   "source": [
    "df.isnull().sum() #checking for null values"
   ]
  },
  {
   "cell_type": "code",
   "execution_count": 468,
   "metadata": {
    "scrolled": false
   },
   "outputs": [],
   "source": [
    "from sklearn.preprocessing import LabelEncoder\n",
    "labelencoder = LabelEncoder() #transforming non-numerical values to numerical"
   ]
  },
  {
   "cell_type": "code",
   "execution_count": 469,
   "metadata": {},
   "outputs": [],
   "source": [
    "df['Gender'] = labelencoder.fit_transform(df['Gender'])\n",
    "df['Course'] = labelencoder.fit_transform(df['Course'])\n",
    "df['Meals'] = labelencoder.fit_transform(df['Meals'])"
   ]
  },
  {
   "cell_type": "code",
   "execution_count": 470,
   "metadata": {},
   "outputs": [
    {
     "data": {
      "text/html": [
       "<div>\n",
       "<style scoped>\n",
       "    .dataframe tbody tr th:only-of-type {\n",
       "        vertical-align: middle;\n",
       "    }\n",
       "\n",
       "    .dataframe tbody tr th {\n",
       "        vertical-align: top;\n",
       "    }\n",
       "\n",
       "    .dataframe thead th {\n",
       "        text-align: right;\n",
       "    }\n",
       "</style>\n",
       "<table border=\"1\" class=\"dataframe\">\n",
       "  <thead>\n",
       "    <tr style=\"text-align: right;\">\n",
       "      <th></th>\n",
       "      <th>Gender</th>\n",
       "      <th>Age</th>\n",
       "      <th>Course</th>\n",
       "      <th>Grade</th>\n",
       "      <th>Device use</th>\n",
       "      <th>Playtime</th>\n",
       "      <th>No. of Games</th>\n",
       "      <th>Schoolwork time</th>\n",
       "      <th>Meals</th>\n",
       "      <th>Outside</th>\n",
       "      <th>Social Media</th>\n",
       "      <th>Exercise</th>\n",
       "    </tr>\n",
       "  </thead>\n",
       "  <tbody>\n",
       "    <tr>\n",
       "      <th>1</th>\n",
       "      <td>1</td>\n",
       "      <td>21</td>\n",
       "      <td>1</td>\n",
       "      <td>93.33</td>\n",
       "      <td>10.000000</td>\n",
       "      <td>3.750000</td>\n",
       "      <td>4</td>\n",
       "      <td>9.0</td>\n",
       "      <td>1</td>\n",
       "      <td>0.500000</td>\n",
       "      <td>2.000000</td>\n",
       "      <td>0.666667</td>\n",
       "    </tr>\n",
       "    <tr>\n",
       "      <th>2</th>\n",
       "      <td>1</td>\n",
       "      <td>21</td>\n",
       "      <td>2</td>\n",
       "      <td>95.57</td>\n",
       "      <td>18.000000</td>\n",
       "      <td>6.000000</td>\n",
       "      <td>1</td>\n",
       "      <td>10.0</td>\n",
       "      <td>3</td>\n",
       "      <td>0.333333</td>\n",
       "      <td>19.000000</td>\n",
       "      <td>0.250000</td>\n",
       "    </tr>\n",
       "    <tr>\n",
       "      <th>3</th>\n",
       "      <td>1</td>\n",
       "      <td>20</td>\n",
       "      <td>2</td>\n",
       "      <td>92.43</td>\n",
       "      <td>12.000000</td>\n",
       "      <td>5.500000</td>\n",
       "      <td>3</td>\n",
       "      <td>5.0</td>\n",
       "      <td>0</td>\n",
       "      <td>2.000000</td>\n",
       "      <td>18.000000</td>\n",
       "      <td>2.500000</td>\n",
       "    </tr>\n",
       "    <tr>\n",
       "      <th>4</th>\n",
       "      <td>1</td>\n",
       "      <td>22</td>\n",
       "      <td>1</td>\n",
       "      <td>96.33</td>\n",
       "      <td>15.500000</td>\n",
       "      <td>8.500000</td>\n",
       "      <td>3</td>\n",
       "      <td>3.0</td>\n",
       "      <td>3</td>\n",
       "      <td>0.500000</td>\n",
       "      <td>15.500000</td>\n",
       "      <td>0.500000</td>\n",
       "    </tr>\n",
       "    <tr>\n",
       "      <th>5</th>\n",
       "      <td>1</td>\n",
       "      <td>21</td>\n",
       "      <td>1</td>\n",
       "      <td>96.11</td>\n",
       "      <td>7.733333</td>\n",
       "      <td>3.916667</td>\n",
       "      <td>3</td>\n",
       "      <td>2.0</td>\n",
       "      <td>1</td>\n",
       "      <td>1.083333</td>\n",
       "      <td>1.666667</td>\n",
       "      <td>0.750000</td>\n",
       "    </tr>\n",
       "    <tr>\n",
       "      <th>6</th>\n",
       "      <td>0</td>\n",
       "      <td>21</td>\n",
       "      <td>4</td>\n",
       "      <td>93.75</td>\n",
       "      <td>11.000000</td>\n",
       "      <td>1.000000</td>\n",
       "      <td>1</td>\n",
       "      <td>10.0</td>\n",
       "      <td>0</td>\n",
       "      <td>0.000000</td>\n",
       "      <td>3.000000</td>\n",
       "      <td>0.000000</td>\n",
       "    </tr>\n",
       "    <tr>\n",
       "      <th>7</th>\n",
       "      <td>1</td>\n",
       "      <td>21</td>\n",
       "      <td>1</td>\n",
       "      <td>88.56</td>\n",
       "      <td>14.000000</td>\n",
       "      <td>5.000000</td>\n",
       "      <td>10</td>\n",
       "      <td>7.0</td>\n",
       "      <td>3</td>\n",
       "      <td>2.000000</td>\n",
       "      <td>10.000000</td>\n",
       "      <td>0.000000</td>\n",
       "    </tr>\n",
       "    <tr>\n",
       "      <th>8</th>\n",
       "      <td>1</td>\n",
       "      <td>21</td>\n",
       "      <td>5</td>\n",
       "      <td>86.38</td>\n",
       "      <td>12.000000</td>\n",
       "      <td>4.000000</td>\n",
       "      <td>3</td>\n",
       "      <td>9.0</td>\n",
       "      <td>0</td>\n",
       "      <td>6.000000</td>\n",
       "      <td>2.000000</td>\n",
       "      <td>3.000000</td>\n",
       "    </tr>\n",
       "    <tr>\n",
       "      <th>9</th>\n",
       "      <td>1</td>\n",
       "      <td>21</td>\n",
       "      <td>1</td>\n",
       "      <td>89.00</td>\n",
       "      <td>8.000000</td>\n",
       "      <td>8.000000</td>\n",
       "      <td>1</td>\n",
       "      <td>2.0</td>\n",
       "      <td>3</td>\n",
       "      <td>1.000000</td>\n",
       "      <td>2.000000</td>\n",
       "      <td>1.000000</td>\n",
       "    </tr>\n",
       "    <tr>\n",
       "      <th>10</th>\n",
       "      <td>1</td>\n",
       "      <td>21</td>\n",
       "      <td>1</td>\n",
       "      <td>88.89</td>\n",
       "      <td>3.500000</td>\n",
       "      <td>2.000000</td>\n",
       "      <td>4</td>\n",
       "      <td>2.0</td>\n",
       "      <td>0</td>\n",
       "      <td>3.000000</td>\n",
       "      <td>0.500000</td>\n",
       "      <td>0.500000</td>\n",
       "    </tr>\n",
       "    <tr>\n",
       "      <th>11</th>\n",
       "      <td>0</td>\n",
       "      <td>21</td>\n",
       "      <td>0</td>\n",
       "      <td>85.41</td>\n",
       "      <td>6.000000</td>\n",
       "      <td>0.000000</td>\n",
       "      <td>0</td>\n",
       "      <td>3.0</td>\n",
       "      <td>0</td>\n",
       "      <td>0.250000</td>\n",
       "      <td>2.000000</td>\n",
       "      <td>2.000000</td>\n",
       "    </tr>\n",
       "    <tr>\n",
       "      <th>12</th>\n",
       "      <td>0</td>\n",
       "      <td>21</td>\n",
       "      <td>6</td>\n",
       "      <td>94.14</td>\n",
       "      <td>7.000000</td>\n",
       "      <td>3.000000</td>\n",
       "      <td>1</td>\n",
       "      <td>8.0</td>\n",
       "      <td>1</td>\n",
       "      <td>3.000000</td>\n",
       "      <td>3.000000</td>\n",
       "      <td>0.000000</td>\n",
       "    </tr>\n",
       "    <tr>\n",
       "      <th>13</th>\n",
       "      <td>0</td>\n",
       "      <td>21</td>\n",
       "      <td>1</td>\n",
       "      <td>93.11</td>\n",
       "      <td>7.000000</td>\n",
       "      <td>1.000000</td>\n",
       "      <td>1</td>\n",
       "      <td>3.0</td>\n",
       "      <td>0</td>\n",
       "      <td>2.000000</td>\n",
       "      <td>3.000000</td>\n",
       "      <td>1.500000</td>\n",
       "    </tr>\n",
       "    <tr>\n",
       "      <th>14</th>\n",
       "      <td>1</td>\n",
       "      <td>22</td>\n",
       "      <td>1</td>\n",
       "      <td>89.78</td>\n",
       "      <td>12.000000</td>\n",
       "      <td>4.000000</td>\n",
       "      <td>3</td>\n",
       "      <td>3.0</td>\n",
       "      <td>0</td>\n",
       "      <td>1.000000</td>\n",
       "      <td>12.000000</td>\n",
       "      <td>1.000000</td>\n",
       "    </tr>\n",
       "    <tr>\n",
       "      <th>15</th>\n",
       "      <td>0</td>\n",
       "      <td>21</td>\n",
       "      <td>1</td>\n",
       "      <td>89.89</td>\n",
       "      <td>7.016667</td>\n",
       "      <td>0.000000</td>\n",
       "      <td>0</td>\n",
       "      <td>3.0</td>\n",
       "      <td>1</td>\n",
       "      <td>1.000000</td>\n",
       "      <td>2.133333</td>\n",
       "      <td>1.500000</td>\n",
       "    </tr>\n",
       "    <tr>\n",
       "      <th>16</th>\n",
       "      <td>1</td>\n",
       "      <td>21</td>\n",
       "      <td>3</td>\n",
       "      <td>92.00</td>\n",
       "      <td>8.000000</td>\n",
       "      <td>2.000000</td>\n",
       "      <td>3</td>\n",
       "      <td>8.0</td>\n",
       "      <td>2</td>\n",
       "      <td>3.000000</td>\n",
       "      <td>0.500000</td>\n",
       "      <td>3.000000</td>\n",
       "    </tr>\n",
       "    <tr>\n",
       "      <th>17</th>\n",
       "      <td>1</td>\n",
       "      <td>23</td>\n",
       "      <td>1</td>\n",
       "      <td>90.00</td>\n",
       "      <td>6.000000</td>\n",
       "      <td>2.000000</td>\n",
       "      <td>4</td>\n",
       "      <td>4.0</td>\n",
       "      <td>1</td>\n",
       "      <td>0.500000</td>\n",
       "      <td>0.500000</td>\n",
       "      <td>0.500000</td>\n",
       "    </tr>\n",
       "    <tr>\n",
       "      <th>18</th>\n",
       "      <td>1</td>\n",
       "      <td>21</td>\n",
       "      <td>1</td>\n",
       "      <td>91.00</td>\n",
       "      <td>14.000000</td>\n",
       "      <td>7.000000</td>\n",
       "      <td>6</td>\n",
       "      <td>5.0</td>\n",
       "      <td>1</td>\n",
       "      <td>3.000000</td>\n",
       "      <td>10.000000</td>\n",
       "      <td>0.500000</td>\n",
       "    </tr>\n",
       "    <tr>\n",
       "      <th>19</th>\n",
       "      <td>1</td>\n",
       "      <td>21</td>\n",
       "      <td>1</td>\n",
       "      <td>90.44</td>\n",
       "      <td>12.000000</td>\n",
       "      <td>7.000000</td>\n",
       "      <td>1</td>\n",
       "      <td>5.0</td>\n",
       "      <td>1</td>\n",
       "      <td>2.000000</td>\n",
       "      <td>1.000000</td>\n",
       "      <td>1.000000</td>\n",
       "    </tr>\n",
       "    <tr>\n",
       "      <th>20</th>\n",
       "      <td>1</td>\n",
       "      <td>21</td>\n",
       "      <td>1</td>\n",
       "      <td>96.30</td>\n",
       "      <td>15.000000</td>\n",
       "      <td>0.000000</td>\n",
       "      <td>0</td>\n",
       "      <td>2.0</td>\n",
       "      <td>2</td>\n",
       "      <td>1.000000</td>\n",
       "      <td>2.000000</td>\n",
       "      <td>0.000000</td>\n",
       "    </tr>\n",
       "    <tr>\n",
       "      <th>21</th>\n",
       "      <td>0</td>\n",
       "      <td>19</td>\n",
       "      <td>5</td>\n",
       "      <td>96.67</td>\n",
       "      <td>8.000000</td>\n",
       "      <td>1.000000</td>\n",
       "      <td>2</td>\n",
       "      <td>6.0</td>\n",
       "      <td>2</td>\n",
       "      <td>1.000000</td>\n",
       "      <td>2.000000</td>\n",
       "      <td>0.333333</td>\n",
       "    </tr>\n",
       "    <tr>\n",
       "      <th>22</th>\n",
       "      <td>0</td>\n",
       "      <td>20</td>\n",
       "      <td>1</td>\n",
       "      <td>95.00</td>\n",
       "      <td>15.500000</td>\n",
       "      <td>0.750000</td>\n",
       "      <td>1</td>\n",
       "      <td>7.5</td>\n",
       "      <td>1</td>\n",
       "      <td>1.000000</td>\n",
       "      <td>1.500000</td>\n",
       "      <td>0.000000</td>\n",
       "    </tr>\n",
       "    <tr>\n",
       "      <th>23</th>\n",
       "      <td>1</td>\n",
       "      <td>20</td>\n",
       "      <td>1</td>\n",
       "      <td>90.00</td>\n",
       "      <td>9.000000</td>\n",
       "      <td>1.316700</td>\n",
       "      <td>1</td>\n",
       "      <td>3.0</td>\n",
       "      <td>1</td>\n",
       "      <td>3.000000</td>\n",
       "      <td>4.000000</td>\n",
       "      <td>3.000000</td>\n",
       "    </tr>\n",
       "    <tr>\n",
       "      <th>24</th>\n",
       "      <td>1</td>\n",
       "      <td>21</td>\n",
       "      <td>1</td>\n",
       "      <td>93.78</td>\n",
       "      <td>14.000000</td>\n",
       "      <td>3.000000</td>\n",
       "      <td>2</td>\n",
       "      <td>8.0</td>\n",
       "      <td>0</td>\n",
       "      <td>1.000000</td>\n",
       "      <td>1.000000</td>\n",
       "      <td>1.000000</td>\n",
       "    </tr>\n",
       "    <tr>\n",
       "      <th>25</th>\n",
       "      <td>1</td>\n",
       "      <td>21</td>\n",
       "      <td>1</td>\n",
       "      <td>91.11</td>\n",
       "      <td>9.000000</td>\n",
       "      <td>4.000000</td>\n",
       "      <td>2</td>\n",
       "      <td>5.0</td>\n",
       "      <td>0</td>\n",
       "      <td>0.500000</td>\n",
       "      <td>2.000000</td>\n",
       "      <td>0.250000</td>\n",
       "    </tr>\n",
       "    <tr>\n",
       "      <th>26</th>\n",
       "      <td>1</td>\n",
       "      <td>22</td>\n",
       "      <td>1</td>\n",
       "      <td>92.00</td>\n",
       "      <td>15.000000</td>\n",
       "      <td>3.000000</td>\n",
       "      <td>1</td>\n",
       "      <td>6.0</td>\n",
       "      <td>0</td>\n",
       "      <td>3.000000</td>\n",
       "      <td>3.000000</td>\n",
       "      <td>0.000000</td>\n",
       "    </tr>\n",
       "    <tr>\n",
       "      <th>27</th>\n",
       "      <td>1</td>\n",
       "      <td>21</td>\n",
       "      <td>1</td>\n",
       "      <td>85.00</td>\n",
       "      <td>5.000000</td>\n",
       "      <td>2.000000</td>\n",
       "      <td>1</td>\n",
       "      <td>4.0</td>\n",
       "      <td>3</td>\n",
       "      <td>3.000000</td>\n",
       "      <td>7.000000</td>\n",
       "      <td>0.000000</td>\n",
       "    </tr>\n",
       "    <tr>\n",
       "      <th>28</th>\n",
       "      <td>1</td>\n",
       "      <td>22</td>\n",
       "      <td>1</td>\n",
       "      <td>95.00</td>\n",
       "      <td>1.000000</td>\n",
       "      <td>0.000000</td>\n",
       "      <td>0</td>\n",
       "      <td>6.0</td>\n",
       "      <td>1</td>\n",
       "      <td>0.333333</td>\n",
       "      <td>10.000000</td>\n",
       "      <td>0.000000</td>\n",
       "    </tr>\n",
       "  </tbody>\n",
       "</table>\n",
       "</div>"
      ],
      "text/plain": [
       "    Gender  Age  Course  Grade  Device use  Playtime  No. of Games  \\\n",
       "1        1   21       1  93.33   10.000000  3.750000             4   \n",
       "2        1   21       2  95.57   18.000000  6.000000             1   \n",
       "3        1   20       2  92.43   12.000000  5.500000             3   \n",
       "4        1   22       1  96.33   15.500000  8.500000             3   \n",
       "5        1   21       1  96.11    7.733333  3.916667             3   \n",
       "6        0   21       4  93.75   11.000000  1.000000             1   \n",
       "7        1   21       1  88.56   14.000000  5.000000            10   \n",
       "8        1   21       5  86.38   12.000000  4.000000             3   \n",
       "9        1   21       1  89.00    8.000000  8.000000             1   \n",
       "10       1   21       1  88.89    3.500000  2.000000             4   \n",
       "11       0   21       0  85.41    6.000000  0.000000             0   \n",
       "12       0   21       6  94.14    7.000000  3.000000             1   \n",
       "13       0   21       1  93.11    7.000000  1.000000             1   \n",
       "14       1   22       1  89.78   12.000000  4.000000             3   \n",
       "15       0   21       1  89.89    7.016667  0.000000             0   \n",
       "16       1   21       3  92.00    8.000000  2.000000             3   \n",
       "17       1   23       1  90.00    6.000000  2.000000             4   \n",
       "18       1   21       1  91.00   14.000000  7.000000             6   \n",
       "19       1   21       1  90.44   12.000000  7.000000             1   \n",
       "20       1   21       1  96.30   15.000000  0.000000             0   \n",
       "21       0   19       5  96.67    8.000000  1.000000             2   \n",
       "22       0   20       1  95.00   15.500000  0.750000             1   \n",
       "23       1   20       1  90.00    9.000000  1.316700             1   \n",
       "24       1   21       1  93.78   14.000000  3.000000             2   \n",
       "25       1   21       1  91.11    9.000000  4.000000             2   \n",
       "26       1   22       1  92.00   15.000000  3.000000             1   \n",
       "27       1   21       1  85.00    5.000000  2.000000             1   \n",
       "28       1   22       1  95.00    1.000000  0.000000             0   \n",
       "\n",
       "    Schoolwork time  Meals   Outside  Social Media  Exercise  \n",
       "1               9.0      1  0.500000      2.000000  0.666667  \n",
       "2              10.0      3  0.333333     19.000000  0.250000  \n",
       "3               5.0      0  2.000000     18.000000  2.500000  \n",
       "4               3.0      3  0.500000     15.500000  0.500000  \n",
       "5               2.0      1  1.083333      1.666667  0.750000  \n",
       "6              10.0      0  0.000000      3.000000  0.000000  \n",
       "7               7.0      3  2.000000     10.000000  0.000000  \n",
       "8               9.0      0  6.000000      2.000000  3.000000  \n",
       "9               2.0      3  1.000000      2.000000  1.000000  \n",
       "10              2.0      0  3.000000      0.500000  0.500000  \n",
       "11              3.0      0  0.250000      2.000000  2.000000  \n",
       "12              8.0      1  3.000000      3.000000  0.000000  \n",
       "13              3.0      0  2.000000      3.000000  1.500000  \n",
       "14              3.0      0  1.000000     12.000000  1.000000  \n",
       "15              3.0      1  1.000000      2.133333  1.500000  \n",
       "16              8.0      2  3.000000      0.500000  3.000000  \n",
       "17              4.0      1  0.500000      0.500000  0.500000  \n",
       "18              5.0      1  3.000000     10.000000  0.500000  \n",
       "19              5.0      1  2.000000      1.000000  1.000000  \n",
       "20              2.0      2  1.000000      2.000000  0.000000  \n",
       "21              6.0      2  1.000000      2.000000  0.333333  \n",
       "22              7.5      1  1.000000      1.500000  0.000000  \n",
       "23              3.0      1  3.000000      4.000000  3.000000  \n",
       "24              8.0      0  1.000000      1.000000  1.000000  \n",
       "25              5.0      0  0.500000      2.000000  0.250000  \n",
       "26              6.0      0  3.000000      3.000000  0.000000  \n",
       "27              4.0      3  3.000000      7.000000  0.000000  \n",
       "28              6.0      1  0.333333     10.000000  0.000000  "
      ]
     },
     "execution_count": 470,
     "metadata": {},
     "output_type": "execute_result"
    }
   ],
   "source": [
    "df"
   ]
  },
  {
   "cell_type": "markdown",
   "metadata": {},
   "source": [
    "# Correlation Heatmap of Dataset"
   ]
  },
  {
   "cell_type": "code",
   "execution_count": 471,
   "metadata": {
    "scrolled": false
   },
   "outputs": [
    {
     "data": {
      "text/plain": [
       "<AxesSubplot:>"
      ]
     },
     "execution_count": 471,
     "metadata": {},
     "output_type": "execute_result"
    },
    {
     "data": {
      "image/png": "[encoded data removed]",
      "text/plain": [
       "<Figure size 1080x792 with 2 Axes>"
      ]
     },
     "metadata": {
      "needs_background": "light"
     },
     "output_type": "display_data"
    }
   ],
   "source": [
    "plt.figure(figsize=(15,11)) #figure size\n",
    "sns.heatmap(df.corr(), annot=True) #bivariate correlation heatmap of df"
   ]
  },
  {
   "cell_type": "markdown",
   "metadata": {},
   "source": [
    "# Dependent and Independent Variables"
   ]
  },
  {
   "cell_type": "code",
   "execution_count": 472,
   "metadata": {},
   "outputs": [],
   "source": [
    "#variable selected through forward selection with the best r^2 and mean squared error scores\n",
    "X = df[['Schoolwork time', 'No. of Games', 'Playtime']].values.reshape(-1,3) #independent variables\n",
    "Y = df['Grade'] #dependent variables"
   ]
  },
  {
   "cell_type": "markdown",
   "metadata": {},
   "source": [
    "# Splitting dataset into training and test sets"
   ]
  },
  {
   "cell_type": "code",
   "execution_count": 473,
   "metadata": {},
   "outputs": [],
   "source": [
    "from sklearn.model_selection import train_test_split\n",
    "X_train, X_test, Y_train, Y_test = train_test_split(X, Y, test_size=0.2, random_state=0) # training data 80% test data 20%"
   ]
  },
  {
   "cell_type": "code",
   "execution_count": 474,
   "metadata": {},
   "outputs": [
    {
     "data": {
      "text/plain": [
       "((22, 3), (22,))"
      ]
     },
     "execution_count": 474,
     "metadata": {},
     "output_type": "execute_result"
    }
   ],
   "source": [
    "X_train.shape, Y_train.shape "
   ]
  },
  {
   "cell_type": "code",
   "execution_count": 475,
   "metadata": {},
   "outputs": [
    {
     "data": {
      "text/plain": [
       "((6, 3), (6,))"
      ]
     },
     "execution_count": 475,
     "metadata": {},
     "output_type": "execute_result"
    }
   ],
   "source": [
    "X_test.shape, Y_test.shape"
   ]
  },
  {
   "cell_type": "markdown",
   "metadata": {},
   "source": [
    "# Linear Regression Model"
   ]
  },
  {
   "cell_type": "code",
   "execution_count": 476,
   "metadata": {},
   "outputs": [],
   "source": [
    "from sklearn import linear_model #import linear model for regression"
   ]
  },
  {
   "cell_type": "code",
   "execution_count": 477,
   "metadata": {},
   "outputs": [],
   "source": [
    "model = linear_model.LinearRegression()"
   ]
  },
  {
   "cell_type": "code",
   "execution_count": 478,
   "metadata": {},
   "outputs": [
    {
     "data": {
      "text/plain": [
       "LinearRegression()"
      ]
     },
     "execution_count": 478,
     "metadata": {},
     "output_type": "execute_result"
    }
   ],
   "source": [
    "model.fit(X_train, Y_train) #fitting training dataset into the model"
   ]
  },
  {
   "cell_type": "code",
   "execution_count": 479,
   "metadata": {},
   "outputs": [
    {
     "name": "stdout",
     "output_type": "stream",
     "text": [
      "[91.58669009 91.71253658 92.03003925 90.53145209 93.25386407 92.89354862]\n"
     ]
    }
   ],
   "source": [
    "Y_pred = model.predict(X_test) #using X_test dataset to predict Y\n",
    "print(Y_pred)"
   ]
  },
  {
   "cell_type": "markdown",
   "metadata": {},
   "source": [
    "# Checking Performance of Model"
   ]
  },
  {
   "cell_type": "code",
   "execution_count": 480,
   "metadata": {},
   "outputs": [],
   "source": [
    "from sklearn.metrics import mean_squared_error, r2_score #importing metrics for mean squared error and r-squared"
   ]
  },
  {
   "cell_type": "code",
   "execution_count": 481,
   "metadata": {},
   "outputs": [
    {
     "data": {
      "text/plain": [
       "0.40360987080164845"
      ]
     },
     "execution_count": 481,
     "metadata": {},
     "output_type": "execute_result"
    }
   ],
   "source": [
    "r2_score(Y_test, Y_pred) #showing r2 score"
   ]
  },
  {
   "cell_type": "code",
   "execution_count": 482,
   "metadata": {},
   "outputs": [
    {
     "data": {
      "text/plain": [
       "1.707175028026521"
      ]
     },
     "execution_count": 482,
     "metadata": {},
     "output_type": "execute_result"
    }
   ],
   "source": [
    "mean_squared_error(Y_test, Y_pred) #showing mean squared error"
   ]
  },
  {
   "cell_type": "markdown",
   "metadata": {},
   "source": [
    "# Regression formula: \n",
    "ŷ = β0 + β1(Schoolwork) + β2(Playtime) + β3(No. of Games)\n",
    "\n",
    "Dependent variable (ŷ) is equal to the sum of the intercept coefficient (β0), slope coefficient multipled with the independent variables (β1,β2,...)(X1,X2,..)"
   ]
  },
  {
   "cell_type": "code",
   "execution_count": 483,
   "metadata": {},
   "outputs": [
    {
     "data": {
      "text/html": [
       "<div>\n",
       "<style scoped>\n",
       "    .dataframe tbody tr th:only-of-type {\n",
       "        vertical-align: middle;\n",
       "    }\n",
       "\n",
       "    .dataframe tbody tr th {\n",
       "        vertical-align: top;\n",
       "    }\n",
       "\n",
       "    .dataframe thead th {\n",
       "        text-align: right;\n",
       "    }\n",
       "</style>\n",
       "<table border=\"1\" class=\"dataframe\">\n",
       "  <thead>\n",
       "    <tr style=\"text-align: right;\">\n",
       "      <th></th>\n",
       "      <th>Grade</th>\n",
       "      <th>Schoolwork time</th>\n",
       "      <th>No. of Games</th>\n",
       "      <th>Playtime</th>\n",
       "    </tr>\n",
       "  </thead>\n",
       "  <tbody>\n",
       "    <tr>\n",
       "      <th>1</th>\n",
       "      <td>93.33</td>\n",
       "      <td>9.0</td>\n",
       "      <td>4</td>\n",
       "      <td>3.75</td>\n",
       "    </tr>\n",
       "  </tbody>\n",
       "</table>\n",
       "</div>"
      ],
      "text/plain": [
       "   Grade  Schoolwork time  No. of Games  Playtime\n",
       "1  93.33              9.0             4      3.75"
      ]
     },
     "execution_count": 483,
     "metadata": {},
     "output_type": "execute_result"
    }
   ],
   "source": [
    "df[['Grade','Schoolwork time','No. of Games', 'Playtime']].head(1) #getting the first row of the dataframe"
   ]
  },
  {
   "cell_type": "code",
   "execution_count": 484,
   "metadata": {},
   "outputs": [
    {
     "name": "stdout",
     "output_type": "stream",
     "text": [
      "Slope:  [ 0.22208662 -0.37271045  0.0419289 ]\n",
      "Intercept:  91.36377937438614\n"
     ]
    }
   ],
   "source": [
    "print('Slope: ', model.coef_) #printing slope value\n",
    "print('Intercept: ', model.intercept_) #printing intercept value"
   ]
  },
  {
   "cell_type": "code",
   "execution_count": 485,
   "metadata": {},
   "outputs": [
    {
     "data": {
      "text/plain": [
       "92.02895052938614"
      ]
     },
     "execution_count": 485,
     "metadata": {},
     "output_type": "execute_result"
    }
   ],
   "source": [
    "#using 1st row independent variables with the slope and intercept coefficient to predict the grade\n",
    "\n",
    "y = 9*0.22208662 + 4*-0.37271045 + 3.75*0.0419289 + 91.36377937438614\n",
    "y"
   ]
  },
  {
   "cell_type": "code",
   "execution_count": 486,
   "metadata": {},
   "outputs": [
    {
     "data": {
      "text/html": [
       "<div>\n",
       "<style scoped>\n",
       "    .dataframe tbody tr th:only-of-type {\n",
       "        vertical-align: middle;\n",
       "    }\n",
       "\n",
       "    .dataframe tbody tr th {\n",
       "        vertical-align: top;\n",
       "    }\n",
       "\n",
       "    .dataframe thead th {\n",
       "        text-align: right;\n",
       "    }\n",
       "</style>\n",
       "<table border=\"1\" class=\"dataframe\">\n",
       "  <thead>\n",
       "    <tr style=\"text-align: right;\">\n",
       "      <th></th>\n",
       "      <th>Actual</th>\n",
       "      <th>Predicted</th>\n",
       "      <th>Difference</th>\n",
       "    </tr>\n",
       "  </thead>\n",
       "  <tbody>\n",
       "    <tr>\n",
       "      <th>3</th>\n",
       "      <td>92.43</td>\n",
       "      <td>91.586690</td>\n",
       "      <td>0.843310</td>\n",
       "    </tr>\n",
       "    <tr>\n",
       "      <th>23</th>\n",
       "      <td>90.00</td>\n",
       "      <td>91.712537</td>\n",
       "      <td>-1.712537</td>\n",
       "    </tr>\n",
       "    <tr>\n",
       "      <th>15</th>\n",
       "      <td>89.89</td>\n",
       "      <td>92.030039</td>\n",
       "      <td>-2.140039</td>\n",
       "    </tr>\n",
       "    <tr>\n",
       "      <th>18</th>\n",
       "      <td>91.00</td>\n",
       "      <td>90.531452</td>\n",
       "      <td>0.468548</td>\n",
       "    </tr>\n",
       "    <tr>\n",
       "      <th>6</th>\n",
       "      <td>93.75</td>\n",
       "      <td>93.253864</td>\n",
       "      <td>0.496136</td>\n",
       "    </tr>\n",
       "    <tr>\n",
       "      <th>12</th>\n",
       "      <td>94.14</td>\n",
       "      <td>92.893549</td>\n",
       "      <td>1.246451</td>\n",
       "    </tr>\n",
       "  </tbody>\n",
       "</table>\n",
       "</div>"
      ],
      "text/plain": [
       "    Actual  Predicted  Difference\n",
       "3    92.43  91.586690    0.843310\n",
       "23   90.00  91.712537   -1.712537\n",
       "15   89.89  92.030039   -2.140039\n",
       "18   91.00  90.531452    0.468548\n",
       "6    93.75  93.253864    0.496136\n",
       "12   94.14  92.893549    1.246451"
      ]
     },
     "execution_count": 486,
     "metadata": {},
     "output_type": "execute_result"
    }
   ],
   "source": [
    "pd.DataFrame({'Actual': Y_test, 'Predicted': Y_pred, 'Difference': Y_test-Y_pred}) \n",
    "#showing difference of actual and predicted values"
   ]
  },
  {
   "cell_type": "markdown",
   "metadata": {},
   "source": [
    "# Plot of Model Result"
   ]
  },
  {
   "cell_type": "code",
   "execution_count": 487,
   "metadata": {},
   "outputs": [
    {
     "data": {
      "text/plain": [
       "Text(0.5, 1.0, 'Actual vs Predicted Values')"
      ]
     },
     "execution_count": 487,
     "metadata": {},
     "output_type": "execute_result"
    },
    {
     "data": {
      "image/png": "[encoded data removed]",
      "text/plain": [
       "<Figure size 1080x720 with 1 Axes>"
      ]
     },
     "metadata": {
      "needs_background": "light"
     },
     "output_type": "display_data"
    }
   ],
   "source": [
    "#plotting actual and predicted values\n",
    "plt.figure(figsize=(15,10))\n",
    "plt.plot(Y_test,Y_pred,'o') #create scatter plot\n",
    "\n",
    "m, b = np.polyfit(Y_test,Y_pred, 1) # to calculate the slope and y-intercept of the regression line with degree = 1\n",
    "\n",
    "plt.plot(Y_test, m*Y_test + b) # plot the regression line\n",
    "\n",
    "plt.xlabel('Actual')\n",
    "plt.ylabel('Predicted')\n",
    "plt.title('Actual vs Predicted Values')"
   ]
  },
  {
   "cell_type": "markdown",
   "metadata": {},
   "source": [
    "# Analysis and Interpretation\n",
    "\n",
    "> In terms of positive correlation, device use time and schoolwork time provide the highest values in relation to the grade, with a positive weak correlation of 0.31 with device use and a positive weak correlation of 0.21 with schoolwork time. The two variables are also positively weakly correlated with each other, with 0.34.\n",
    "\n",
    "> In terms of negative correlation, time spent outside and exercising provide the highest values in relation to grade, with a negative moderate correlation of -0.44 with time outside and negative weak correlation of -0.36 with time spent exercising. The two variables are in a positively moderate correlation with each other, with a value of 0.43.\n",
    "\n",
    "> Playtime, No. of games, Meals, and social media have very weak correlation towards grades but have some fairly weak to moderate correlation to device use time, schoolwork time, outside time, and exercise time, causing an indirect impact towards grades.\n",
    "\n",
    "> Forward selection method in variable selection for the ML model resulted in selection of schoolwork time, no. of games, and playtime as the chosen regressor variables. This results to an r-squared score of 0.403 and a mean squared error value of 1.707. An r-squared value of 50% or less is usually the result of a studies attempting to predict human behavior. \n",
    "\n",
    "> Slope values for schoolwork time, no. of games, and playtime are 0.22208662, -0.37271045, and 0.0419289, while the intercept value is 91.36377937438614."
   ]
  },
  {
   "cell_type": "markdown",
   "metadata": {},
   "source": [
    "# Community Questions\n",
    "\n",
    "1. Is there a better way to delegate my time wisely [to improve my overall grade performance]?\n",
    "> Considering the EDA results, the best way to delegate one's time to maximize their overall grade performance is striking a balance between increasing device use and schoolwork time and outside and exercise time, due to their direct and inverse relationship with grade. Students who spend more time doing schoolworks and using their devices should consider doing outdoor and exercise activities more, and vice versa. This data proves that a quality life-work balance is needed to improve performance.\n",
    "\n",
    "2. How significant is the relationship between social media hours andone's overall average grades?\n",
    "> The relationship has a very weak positive correlation hinting to only a minimal direct increase of overall grades from the hours spent in social media.\n",
    "\n",
    "3. How high is the correlation between hours spent playing video gamesto average grade compared to the correlation between hours spent insocial media and average grade?\n",
    "> The correlation between game playtime and overall grade is a negligible negative one compared to the positive very weak correlation that social media and grades have. However, social media has a higher value of correlation of 0.16 compared to playtime's 0.0079, making it more influential compared to playtime, albeit in a very weak degree.\n",
    "\n",
    "4. Is there a relationship between time spent with games with performance in grades?\n",
    "> It has a negligible inverse correlation, which means it has a very minimal impact of increasing grade performance as the playtime value goes down.\n",
    "\n",
    "5. Which factor is highest/that influences the most when it comes to overall average grades of a student?\n",
    "> In terms of a direct correlation with the grades, device use has the highest positive influence. This could be attributed to how schoolworks are performed through online methodologies, leading to higher device use. This also contributed to making time spent on schoolworks the 2nd highest positive influence to grades. In terms of an inverse correlation, time spent outside has the highest negative influence. This could be that the more time spent outside, the less time to be focused on school related lifestyle, leading to a lower grade performance. This also contributes to making time spent on exercise the 2nd highest inverse relationship, as spending time outside could also be for exercising outdoor, although it could also be done indoors."
   ]
  },
  {
   "cell_type": "markdown",
   "metadata": {},
   "source": [
    "# Conclusion\n",
    "\n",
    "With the following results, it is concluded that device use, schoolwork, outside, and exercise time have a significant impact towards influencing overall grade performance, in terms of individual correlation with the grade variable. Increasing the device use and schoolwork time can help increase grade performance of students in a weak to moderate level. Decreasing time spent outside and exercising can also increase grade performance to a moderate level. However, it should also be pointed out that balancing these variables are also important in ensuring a high grade performance. In terms of building the model, the variables of schoolwork time, no. of games playing, and total play time contributes to the highest possible r-squared value and lowest mean squared error value through the forward selection method. "
   ]
  },
  {
   "cell_type": "code",
   "execution_count": null,
   "metadata": {},
   "outputs": [],
   "source": []
  }
 ],
 "metadata": {
  "kernelspec": {
   "display_name": "Python 3",
   "language": "python",
   "name": "python3"
  },
  "language_info": {
   "codemirror_mode": {
    "name": "ipython",
    "version": 3
   },
   "file_extension": ".py",
   "mimetype": "text/x-python",
   "name": "python",
   "nbconvert_exporter": "python",
   "pygments_lexer": "ipython3",
   "version": "3.10.4"
  },
  "vscode": {
   "interpreter": {
    "hash": "369f2c481f4da34e4445cda3fffd2e751bd1c4d706f27375911949ba6bb62e1c"
   }
  }
 },
 "nbformat": 4,
 "nbformat_minor": 5
}
