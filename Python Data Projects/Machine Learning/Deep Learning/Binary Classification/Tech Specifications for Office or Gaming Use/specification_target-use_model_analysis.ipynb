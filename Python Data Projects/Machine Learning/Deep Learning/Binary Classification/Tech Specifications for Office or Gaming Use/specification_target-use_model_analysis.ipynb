{
 "cells": [
  {
   "attachments": {},
   "cell_type": "markdown",
   "metadata": {},
   "source": [
    "# Importing libraries and pre-processing of data"
   ]
  },
  {
   "cell_type": "code",
   "execution_count": 1254,
   "metadata": {},
   "outputs": [],
   "source": [
    "# add necessary libraries for exploratory data analysis\n",
    "import numpy as np\n",
    "import pandas as pd\n",
    "import matplotlib.pyplot as plt "
   ]
  },
  {
   "cell_type": "code",
   "execution_count": 1255,
   "metadata": {},
   "outputs": [
    {
     "data": {
      "text/html": [
       "<div>\n",
       "<style scoped>\n",
       "    .dataframe tbody tr th:only-of-type {\n",
       "        vertical-align: middle;\n",
       "    }\n",
       "\n",
       "    .dataframe tbody tr th {\n",
       "        vertical-align: top;\n",
       "    }\n",
       "\n",
       "    .dataframe thead th {\n",
       "        text-align: right;\n",
       "    }\n",
       "</style>\n",
       "<table border=\"1\" class=\"dataframe\">\n",
       "  <thead>\n",
       "    <tr style=\"text-align: right;\">\n",
       "      <th></th>\n",
       "      <th>ITEM NO.</th>\n",
       "      <th>CPU</th>\n",
       "      <th>RAM</th>\n",
       "      <th>Type of Storage</th>\n",
       "      <th>Storage Capacity</th>\n",
       "      <th>GPU</th>\n",
       "      <th>Target Usage</th>\n",
       "    </tr>\n",
       "  </thead>\n",
       "  <tbody>\n",
       "    <tr>\n",
       "      <th>0</th>\n",
       "      <td>2021-9301</td>\n",
       "      <td>Ryzen 5</td>\n",
       "      <td>4GB</td>\n",
       "      <td>SSD</td>\n",
       "      <td>500GB</td>\n",
       "      <td>NO</td>\n",
       "      <td>Office</td>\n",
       "    </tr>\n",
       "    <tr>\n",
       "      <th>1</th>\n",
       "      <td>2021-9302</td>\n",
       "      <td>Ryzen 5</td>\n",
       "      <td>16GB</td>\n",
       "      <td>SSD</td>\n",
       "      <td>500GB</td>\n",
       "      <td>6GB</td>\n",
       "      <td>GAMING</td>\n",
       "    </tr>\n",
       "    <tr>\n",
       "      <th>2</th>\n",
       "      <td>2021-9303</td>\n",
       "      <td>Ryzen 3</td>\n",
       "      <td>4GB</td>\n",
       "      <td>HDD</td>\n",
       "      <td>1TB</td>\n",
       "      <td>NO</td>\n",
       "      <td>Office</td>\n",
       "    </tr>\n",
       "    <tr>\n",
       "      <th>3</th>\n",
       "      <td>2021-9304</td>\n",
       "      <td>Ryzen 5</td>\n",
       "      <td>16GB</td>\n",
       "      <td>SSD</td>\n",
       "      <td>1TB</td>\n",
       "      <td>4GB</td>\n",
       "      <td>GAMING</td>\n",
       "    </tr>\n",
       "    <tr>\n",
       "      <th>4</th>\n",
       "      <td>2021-9305</td>\n",
       "      <td>Pentium</td>\n",
       "      <td>16GB</td>\n",
       "      <td>HDD</td>\n",
       "      <td>500GB</td>\n",
       "      <td>6GB</td>\n",
       "      <td>Office</td>\n",
       "    </tr>\n",
       "    <tr>\n",
       "      <th>5</th>\n",
       "      <td>2021-9306</td>\n",
       "      <td>i7</td>\n",
       "      <td>4GB</td>\n",
       "      <td>SSD</td>\n",
       "      <td>NaN</td>\n",
       "      <td>NO</td>\n",
       "      <td>Office</td>\n",
       "    </tr>\n",
       "    <tr>\n",
       "      <th>6</th>\n",
       "      <td>2021-9307</td>\n",
       "      <td>Ryzen 5</td>\n",
       "      <td>4GB</td>\n",
       "      <td>HDD</td>\n",
       "      <td>1TB</td>\n",
       "      <td>NO</td>\n",
       "      <td>Office</td>\n",
       "    </tr>\n",
       "    <tr>\n",
       "      <th>7</th>\n",
       "      <td>2021-9308</td>\n",
       "      <td>i9</td>\n",
       "      <td>16GB</td>\n",
       "      <td>SSD</td>\n",
       "      <td>1TB</td>\n",
       "      <td>4GB</td>\n",
       "      <td>GAMING</td>\n",
       "    </tr>\n",
       "    <tr>\n",
       "      <th>8</th>\n",
       "      <td>2021-9309</td>\n",
       "      <td>i9</td>\n",
       "      <td>16GB</td>\n",
       "      <td>SSD</td>\n",
       "      <td>500GB</td>\n",
       "      <td>6GB</td>\n",
       "      <td>GAMING</td>\n",
       "    </tr>\n",
       "    <tr>\n",
       "      <th>9</th>\n",
       "      <td>2021-9310</td>\n",
       "      <td>Pentium</td>\n",
       "      <td>8GB</td>\n",
       "      <td>HDD</td>\n",
       "      <td>1TB</td>\n",
       "      <td>NO</td>\n",
       "      <td>Office</td>\n",
       "    </tr>\n",
       "  </tbody>\n",
       "</table>\n",
       "</div>"
      ],
      "text/plain": [
       "    ITEM NO.      CPU   RAM Type of Storage Storage Capacity  GPU   \\\n",
       "0  2021-9301  Ryzen 5   4GB             SSD            500GB    NO   \n",
       "1  2021-9302  Ryzen 5  16GB             SSD            500GB  6GB    \n",
       "2  2021-9303  Ryzen 3   4GB             HDD              1TB    NO   \n",
       "3  2021-9304  Ryzen 5  16GB             SSD              1TB  4GB    \n",
       "4  2021-9305  Pentium  16GB             HDD            500GB   6GB   \n",
       "5  2021-9306       i7   4GB             SSD              NaN    NO   \n",
       "6  2021-9307  Ryzen 5   4GB             HDD              1TB    NO   \n",
       "7  2021-9308       i9  16GB             SSD              1TB  4GB    \n",
       "8  2021-9309       i9  16GB             SSD            500GB  6GB    \n",
       "9  2021-9310  Pentium   8GB             HDD              1TB    NO   \n",
       "\n",
       "  Target Usage  \n",
       "0       Office  \n",
       "1       GAMING  \n",
       "2       Office  \n",
       "3       GAMING  \n",
       "4       Office  \n",
       "5       Office  \n",
       "6       Office  \n",
       "7       GAMING  \n",
       "8       GAMING  \n",
       "9       Office  "
      ]
     },
     "execution_count": 1255,
     "metadata": {},
     "output_type": "execute_result"
    }
   ],
   "source": [
    "data_path = 'spec_dataset.csv' # path to the data file\n",
    "df = pd.read_csv(data_path)\n",
    "df.head(10)"
   ]
  },
  {
   "cell_type": "code",
   "execution_count": 1256,
   "metadata": {},
   "outputs": [
    {
     "data": {
      "text/plain": [
       "(50, 7)"
      ]
     },
     "execution_count": 1256,
     "metadata": {},
     "output_type": "execute_result"
    }
   ],
   "source": [
    "df.shape # check the shape of the dataframe"
   ]
  },
  {
   "cell_type": "code",
   "execution_count": 1257,
   "metadata": {},
   "outputs": [
    {
     "data": {
      "text/plain": [
       "ITEM NO.            object\n",
       "CPU                 object\n",
       "RAM                 object\n",
       "Type of Storage     object\n",
       "Storage Capacity    object\n",
       "GPU                 object\n",
       "Target Usage        object\n",
       "dtype: object"
      ]
     },
     "execution_count": 1257,
     "metadata": {},
     "output_type": "execute_result"
    }
   ],
   "source": [
    "df.dtypes # check the data types of the dataframe "
   ]
  },
  {
   "cell_type": "code",
   "execution_count": 1258,
   "metadata": {},
   "outputs": [
    {
     "data": {
      "text/plain": [
       "ITEM NO.            50\n",
       "CPU                 50\n",
       "RAM                 49\n",
       "Type of Storage     49\n",
       "Storage Capacity    49\n",
       "GPU                 49\n",
       "Target Usage        50\n",
       "dtype: int64"
      ]
     },
     "execution_count": 1258,
     "metadata": {},
     "output_type": "execute_result"
    }
   ],
   "source": [
    "df.count() # check the number of non-null values in each column"
   ]
  },
  {
   "cell_type": "code",
   "execution_count": 1259,
   "metadata": {},
   "outputs": [
    {
     "data": {
      "text/plain": [
       "ITEM NO.            0\n",
       "CPU                 0\n",
       "RAM                 1\n",
       "Type of Storage     1\n",
       "Storage Capacity    1\n",
       "GPU                 1\n",
       "Target Usage        0\n",
       "dtype: int64"
      ]
     },
     "execution_count": 1259,
     "metadata": {},
     "output_type": "execute_result"
    }
   ],
   "source": [
    "df.isnull().sum() # check the number of null values in each column"
   ]
  },
  {
   "cell_type": "code",
   "execution_count": 1260,
   "metadata": {},
   "outputs": [
    {
     "data": {
      "text/plain": [
       "ITEM NO.            46\n",
       "CPU                 46\n",
       "RAM                 46\n",
       "Type of Storage     46\n",
       "Storage Capacity    46\n",
       "GPU                 46\n",
       "Target Usage        46\n",
       "dtype: int64"
      ]
     },
     "execution_count": 1260,
     "metadata": {},
     "output_type": "execute_result"
    }
   ],
   "source": [
    "df = df.dropna() # drop all rows with null values   \n",
    "df.count()"
   ]
  },
  {
   "cell_type": "code",
   "execution_count": 1261,
   "metadata": {},
   "outputs": [
    {
     "data": {
      "text/html": [
       "<div>\n",
       "<style scoped>\n",
       "    .dataframe tbody tr th:only-of-type {\n",
       "        vertical-align: middle;\n",
       "    }\n",
       "\n",
       "    .dataframe tbody tr th {\n",
       "        vertical-align: top;\n",
       "    }\n",
       "\n",
       "    .dataframe thead th {\n",
       "        text-align: right;\n",
       "    }\n",
       "</style>\n",
       "<table border=\"1\" class=\"dataframe\">\n",
       "  <thead>\n",
       "    <tr style=\"text-align: right;\">\n",
       "      <th></th>\n",
       "      <th>ITEM NO.</th>\n",
       "      <th>CPU</th>\n",
       "      <th>RAM</th>\n",
       "      <th>Type of Storage</th>\n",
       "      <th>Storage Capacity</th>\n",
       "      <th>GPU</th>\n",
       "      <th>Target Usage</th>\n",
       "    </tr>\n",
       "  </thead>\n",
       "  <tbody>\n",
       "    <tr>\n",
       "      <th>count</th>\n",
       "      <td>46</td>\n",
       "      <td>46</td>\n",
       "      <td>46</td>\n",
       "      <td>46</td>\n",
       "      <td>46</td>\n",
       "      <td>46</td>\n",
       "      <td>46</td>\n",
       "    </tr>\n",
       "    <tr>\n",
       "      <th>unique</th>\n",
       "      <td>46</td>\n",
       "      <td>7</td>\n",
       "      <td>3</td>\n",
       "      <td>2</td>\n",
       "      <td>2</td>\n",
       "      <td>5</td>\n",
       "      <td>2</td>\n",
       "    </tr>\n",
       "    <tr>\n",
       "      <th>top</th>\n",
       "      <td>2021-9301</td>\n",
       "      <td>Pentium</td>\n",
       "      <td>4GB</td>\n",
       "      <td>SSD</td>\n",
       "      <td>500GB</td>\n",
       "      <td>NO</td>\n",
       "      <td>Office</td>\n",
       "    </tr>\n",
       "    <tr>\n",
       "      <th>freq</th>\n",
       "      <td>1</td>\n",
       "      <td>10</td>\n",
       "      <td>17</td>\n",
       "      <td>29</td>\n",
       "      <td>23</td>\n",
       "      <td>17</td>\n",
       "      <td>24</td>\n",
       "    </tr>\n",
       "  </tbody>\n",
       "</table>\n",
       "</div>"
      ],
      "text/plain": [
       "         ITEM NO.      CPU  RAM Type of Storage Storage Capacity GPU   \\\n",
       "count          46       46   46              46               46   46   \n",
       "unique         46        7    3               2                2    5   \n",
       "top     2021-9301  Pentium  4GB             SSD            500GB   NO   \n",
       "freq            1       10   17              29               23   17   \n",
       "\n",
       "       Target Usage  \n",
       "count            46  \n",
       "unique            2  \n",
       "top          Office  \n",
       "freq             24  "
      ]
     },
     "execution_count": 1261,
     "metadata": {},
     "output_type": "execute_result"
    }
   ],
   "source": [
    "df.describe() # check the summary statistics of the dataframe"
   ]
  },
  {
   "cell_type": "code",
   "execution_count": 1262,
   "metadata": {},
   "outputs": [
    {
     "data": {
      "text/html": [
       "<div>\n",
       "<style scoped>\n",
       "    .dataframe tbody tr th:only-of-type {\n",
       "        vertical-align: middle;\n",
       "    }\n",
       "\n",
       "    .dataframe tbody tr th {\n",
       "        vertical-align: top;\n",
       "    }\n",
       "\n",
       "    .dataframe thead th {\n",
       "        text-align: right;\n",
       "    }\n",
       "</style>\n",
       "<table border=\"1\" class=\"dataframe\">\n",
       "  <thead>\n",
       "    <tr style=\"text-align: right;\">\n",
       "      <th></th>\n",
       "      <th>ITEM NO.</th>\n",
       "      <th>CPU</th>\n",
       "      <th>RAM</th>\n",
       "      <th>Type of Storage</th>\n",
       "      <th>Storage Capacity</th>\n",
       "      <th>GPU</th>\n",
       "      <th>Target Usage</th>\n",
       "    </tr>\n",
       "  </thead>\n",
       "  <tbody>\n",
       "    <tr>\n",
       "      <th>0</th>\n",
       "      <td>2021-9301</td>\n",
       "      <td>Ryzen 5</td>\n",
       "      <td>4GB</td>\n",
       "      <td>SSD</td>\n",
       "      <td>500GB</td>\n",
       "      <td>NO</td>\n",
       "      <td>Office</td>\n",
       "    </tr>\n",
       "    <tr>\n",
       "      <th>1</th>\n",
       "      <td>2021-9302</td>\n",
       "      <td>Ryzen 5</td>\n",
       "      <td>16GB</td>\n",
       "      <td>SSD</td>\n",
       "      <td>500GB</td>\n",
       "      <td>6GB</td>\n",
       "      <td>Gaming</td>\n",
       "    </tr>\n",
       "    <tr>\n",
       "      <th>2</th>\n",
       "      <td>2021-9303</td>\n",
       "      <td>Ryzen 3</td>\n",
       "      <td>4GB</td>\n",
       "      <td>HDD</td>\n",
       "      <td>1TB</td>\n",
       "      <td>NO</td>\n",
       "      <td>Office</td>\n",
       "    </tr>\n",
       "    <tr>\n",
       "      <th>3</th>\n",
       "      <td>2021-9304</td>\n",
       "      <td>Ryzen 5</td>\n",
       "      <td>16GB</td>\n",
       "      <td>SSD</td>\n",
       "      <td>1TB</td>\n",
       "      <td>4GB</td>\n",
       "      <td>Gaming</td>\n",
       "    </tr>\n",
       "    <tr>\n",
       "      <th>4</th>\n",
       "      <td>2021-9305</td>\n",
       "      <td>Pentium</td>\n",
       "      <td>16GB</td>\n",
       "      <td>HDD</td>\n",
       "      <td>500GB</td>\n",
       "      <td>6GB</td>\n",
       "      <td>Office</td>\n",
       "    </tr>\n",
       "    <tr>\n",
       "      <th>6</th>\n",
       "      <td>2021-9307</td>\n",
       "      <td>Ryzen 5</td>\n",
       "      <td>4GB</td>\n",
       "      <td>HDD</td>\n",
       "      <td>1TB</td>\n",
       "      <td>NO</td>\n",
       "      <td>Office</td>\n",
       "    </tr>\n",
       "    <tr>\n",
       "      <th>7</th>\n",
       "      <td>2021-9308</td>\n",
       "      <td>i9</td>\n",
       "      <td>16GB</td>\n",
       "      <td>SSD</td>\n",
       "      <td>1TB</td>\n",
       "      <td>4GB</td>\n",
       "      <td>Gaming</td>\n",
       "    </tr>\n",
       "    <tr>\n",
       "      <th>8</th>\n",
       "      <td>2021-9309</td>\n",
       "      <td>i9</td>\n",
       "      <td>16GB</td>\n",
       "      <td>SSD</td>\n",
       "      <td>500GB</td>\n",
       "      <td>6GB</td>\n",
       "      <td>Gaming</td>\n",
       "    </tr>\n",
       "    <tr>\n",
       "      <th>9</th>\n",
       "      <td>2021-9310</td>\n",
       "      <td>Pentium</td>\n",
       "      <td>8GB</td>\n",
       "      <td>HDD</td>\n",
       "      <td>1TB</td>\n",
       "      <td>NO</td>\n",
       "      <td>Office</td>\n",
       "    </tr>\n",
       "    <tr>\n",
       "      <th>10</th>\n",
       "      <td>2021-9311</td>\n",
       "      <td>Ryzen 7</td>\n",
       "      <td>16GB</td>\n",
       "      <td>SSD</td>\n",
       "      <td>500GB</td>\n",
       "      <td>6GB</td>\n",
       "      <td>Gaming</td>\n",
       "    </tr>\n",
       "  </tbody>\n",
       "</table>\n",
       "</div>"
      ],
      "text/plain": [
       "     ITEM NO.      CPU   RAM Type of Storage Storage Capacity  GPU  \\\n",
       "0   2021-9301  Ryzen 5   4GB             SSD            500GB   NO   \n",
       "1   2021-9302  Ryzen 5  16GB             SSD            500GB  6GB   \n",
       "2   2021-9303  Ryzen 3   4GB             HDD              1TB   NO   \n",
       "3   2021-9304  Ryzen 5  16GB             SSD              1TB  4GB   \n",
       "4   2021-9305  Pentium  16GB             HDD            500GB  6GB   \n",
       "6   2021-9307  Ryzen 5   4GB             HDD              1TB   NO   \n",
       "7   2021-9308       i9  16GB             SSD              1TB  4GB   \n",
       "8   2021-9309       i9  16GB             SSD            500GB  6GB   \n",
       "9   2021-9310  Pentium   8GB             HDD              1TB   NO   \n",
       "10  2021-9311  Ryzen 7  16GB             SSD            500GB  6GB   \n",
       "\n",
       "   Target Usage  \n",
       "0        Office  \n",
       "1        Gaming  \n",
       "2        Office  \n",
       "3        Gaming  \n",
       "4        Office  \n",
       "6        Office  \n",
       "7        Gaming  \n",
       "8        Gaming  \n",
       "9        Office  \n",
       "10       Gaming  "
      ]
     },
     "execution_count": 1262,
     "metadata": {},
     "output_type": "execute_result"
    }
   ],
   "source": [
    "df.rename(columns={\"GPU \": \"GPU\"}, inplace=True) # rename the column \"GPU \" to \"GPU\"\n",
    "df[\"GPU\"] = df[\"GPU\"].replace([\"4GB \", \"6GB \"], [\"4GB\", \"6GB\"]) # remove the space in the values of the column \"GPU\"\n",
    "df[\"Target Usage\"] = df[\"Target Usage\"].replace([\"GAMING\"], [\"Gaming\"]) # replace the value \"GAMING\" with \"Gaming\" in the column \"Target Usage\"\n",
    "df.head(10)"
   ]
  },
  {
   "attachments": {},
   "cell_type": "markdown",
   "metadata": {},
   "source": [
    "# Exploratory Data Analysis"
   ]
  },
  {
   "attachments": {},
   "cell_type": "markdown",
   "metadata": {},
   "source": [
    "1. What CPU is mostly used in Gaming? "
   ]
  },
  {
   "cell_type": "code",
   "execution_count": 1263,
   "metadata": {},
   "outputs": [
    {
     "data": {
      "text/plain": [
       "Target Usage  CPU    \n",
       "Gaming        i9         7\n",
       "              Ryzen 5    4\n",
       "              Ryzen 7    4\n",
       "              Ryzen 3    3\n",
       "              i5         2\n",
       "              i7         2\n",
       "Name: CPU, dtype: int64"
      ]
     },
     "execution_count": 1263,
     "metadata": {},
     "output_type": "execute_result"
    }
   ],
   "source": [
    "# group by Target Usage and count the number of each CPU used in which target usage is Gaming\n",
    "Q1 = df.loc[(df[\"Target Usage\"] == \"Gaming\")].groupby(\"Target Usage\")[\"CPU\"].value_counts().sort_values(ascending=False) \n",
    "Q1"
   ]
  },
  {
   "cell_type": "code",
   "execution_count": 1264,
   "metadata": {},
   "outputs": [
    {
     "data": {
      "text/plain": [
       "Text(0.5, 1.0, 'Overall Number of CPUs used for Gaming')"
      ]
     },
     "execution_count": 1264,
     "metadata": {},
     "output_type": "execute_result"
    },
    {
     "data": {
      "image/png": "[encoded data removed]",
      "text/plain": [
       "<Figure size 600x300 with 1 Axes>"
      ]
     },
     "metadata": {},
     "output_type": "display_data"
    }
   ],
   "source": [
    "Q1.plot(kind=\"barh\", color=\"green\" , figsize=(6,3)) # plot the bar chart\n",
    "plt.xlabel('Count of Target Usage for Gaming')\n",
    "plt.ylabel('CPU Used')\n",
    "plt.title('Overall Number of CPUs used for Gaming')"
   ]
  },
  {
   "attachments": {},
   "cell_type": "markdown",
   "metadata": {},
   "source": [
    "2. How much gigabyte of RAM is usually used by gamers?"
   ]
  },
  {
   "cell_type": "code",
   "execution_count": 1265,
   "metadata": {},
   "outputs": [
    {
     "data": {
      "text/plain": [
       "Target Usage  RAM \n",
       "Gaming        16GB    14\n",
       "              8GB      8\n",
       "Name: RAM, dtype: int64"
      ]
     },
     "execution_count": 1265,
     "metadata": {},
     "output_type": "execute_result"
    }
   ],
   "source": [
    "# group by Target Usage and count the number of each RAM size used where the target usage is Gaming\n",
    "Q2 = df.loc[(df[\"Target Usage\"] == \"Gaming\")].groupby(\"Target Usage\")[\"RAM\"].value_counts().sort_values(ascending=False)\n",
    "Q2"
   ]
  },
  {
   "cell_type": "code",
   "execution_count": 1266,
   "metadata": {},
   "outputs": [
    {
     "data": {
      "text/plain": [
       "Text(0.5, 1.0, 'Overall RAM Size used for Gaming')"
      ]
     },
     "execution_count": 1266,
     "metadata": {},
     "output_type": "execute_result"
    },
    {
     "data": {
      "image/png": "[encoded data removed]",
      "text/plain": [
       "<Figure size 600x300 with 1 Axes>"
      ]
     },
     "metadata": {},
     "output_type": "display_data"
    }
   ],
   "source": [
    "Q2.plot(kind=\"barh\", color=\"red\" , figsize=(6,3)) # plot the bar chart\n",
    "plt.xlabel('Count of RAM Size for Gaming')\n",
    "plt.ylabel('RAM Used')\n",
    "plt.title('Overall RAM Size used for Gaming')"
   ]
  },
  {
   "attachments": {},
   "cell_type": "markdown",
   "metadata": {},
   "source": [
    "3. What CPU is mostly used in Office works?"
   ]
  },
  {
   "cell_type": "code",
   "execution_count": 1267,
   "metadata": {},
   "outputs": [
    {
     "data": {
      "text/plain": [
       "Target Usage  CPU    \n",
       "Office        Pentium    10\n",
       "              Ryzen 5     4\n",
       "              Ryzen 3     2\n",
       "              Ryzen 7     2\n",
       "              i5          2\n",
       "              i7          2\n",
       "              i9          2\n",
       "Name: CPU, dtype: int64"
      ]
     },
     "execution_count": 1267,
     "metadata": {},
     "output_type": "execute_result"
    }
   ],
   "source": [
    "# group by Target Usage and count the number of CPU used where the target usage is Office\n",
    "Q3 = df.loc[(df[\"Target Usage\"] == \"Office\")].groupby(\"Target Usage\")[\"CPU\"].value_counts().sort_values(ascending=False)\n",
    "Q3"
   ]
  },
  {
   "cell_type": "code",
   "execution_count": 1268,
   "metadata": {},
   "outputs": [
    {
     "data": {
      "text/plain": [
       "Text(0.5, 1.0, 'Overall Number of CPUs used for Office')"
      ]
     },
     "execution_count": 1268,
     "metadata": {},
     "output_type": "execute_result"
    },
    {
     "data": {
      "image/png": "[encoded data removed]",
      "text/plain": [
       "<Figure size 600x300 with 1 Axes>"
      ]
     },
     "metadata": {},
     "output_type": "display_data"
    }
   ],
   "source": [
    "Q3.plot(kind=\"barh\", color=\"blue\" , figsize=(6,3)) # plot the bar chart\n",
    "plt.xlabel('Count of Target Usage for Office')\n",
    "plt.ylabel('CPU Used')\n",
    "plt.title('Overall Number of CPUs used for Office')"
   ]
  },
  {
   "attachments": {},
   "cell_type": "markdown",
   "metadata": {},
   "source": [
    "4. Provide an additional analysis or question to answer.\n",
    "\n",
    "What CPU, RAM, and Type of Storage combination/s are the most popular for Gaming? For Office?"
   ]
  },
  {
   "cell_type": "code",
   "execution_count": 1269,
   "metadata": {},
   "outputs": [
    {
     "data": {
      "text/plain": [
       "Target Usage  CPU      RAM   Type of Storage\n",
       "Gaming        Ryzen 5  16GB  SSD                4\n",
       "              i9       16GB  SSD                3\n",
       "              Ryzen 3  8GB   SSD                2\n",
       "              Ryzen 7  16GB  SSD                2\n",
       "                       8GB   SSD                2\n",
       "              i5       16GB  SSD                2\n",
       "              i7       8GB   SSD                2\n",
       "              i9       16GB  HDD                2\n",
       "                       8GB   SSD                2\n",
       "              Ryzen 3  16GB  SSD                1\n",
       "dtype: int64"
      ]
     },
     "execution_count": 1269,
     "metadata": {},
     "output_type": "execute_result"
    }
   ],
   "source": [
    "# group by Target Usage and list the combinations of CPU, RAM, and Type of Storage used where the target usage is Gaming\n",
    "Q4_1 = df[[\"CPU\", \"RAM\", \"Target Usage\", \"Type of Storage\"]].loc[(df[\"Target Usage\"] == \"Gaming\")].groupby(\"Target Usage\").value_counts(ascending=False)\n",
    "Q4_1"
   ]
  },
  {
   "cell_type": "code",
   "execution_count": 1270,
   "metadata": {},
   "outputs": [
    {
     "data": {
      "text/plain": [
       "Text(0.5, 1.0, 'Popularity of PC Spec Combinations for Gaming')"
      ]
     },
     "execution_count": 1270,
     "metadata": {},
     "output_type": "execute_result"
    },
    {
     "data": {
      "image/png": "[encoded data removed]",
      "text/plain": [
       "<Figure size 600x300 with 1 Axes>"
      ]
     },
     "metadata": {},
     "output_type": "display_data"
    }
   ],
   "source": [
    "Q4_1.plot(kind=\"barh\", figsize=(6,3)) # plot the bar chart\n",
    "plt.xlabel('Count of Usage')\n",
    "plt.ylabel('CPU, RAM, and Storage Type Used')\n",
    "plt.title('Popularity of PC Spec Combinations for Gaming')"
   ]
  },
  {
   "cell_type": "code",
   "execution_count": 1271,
   "metadata": {},
   "outputs": [
    {
     "data": {
      "text/plain": [
       "Target Usage  CPU      RAM   Type of Storage\n",
       "Office        Pentium  4GB   HDD                3\n",
       "                       8GB   HDD                3\n",
       "                       16GB  HDD                2\n",
       "              Ryzen 5  4GB   HDD                2\n",
       "                             SSD                2\n",
       "              Ryzen 3  4GB   HDD                1\n",
       "                             SSD                1\n",
       "              Pentium  8GB   SSD                1\n",
       "                       16GB  SSD                1\n",
       "              Ryzen 7  4GB   HDD                1\n",
       "                             SSD                1\n",
       "              i5       4GB   HDD                1\n",
       "                             SSD                1\n",
       "              i7       4GB   HDD                1\n",
       "                             SSD                1\n",
       "              i9       4GB   HDD                1\n",
       "                             SSD                1\n",
       "dtype: int64"
      ]
     },
     "execution_count": 1271,
     "metadata": {},
     "output_type": "execute_result"
    }
   ],
   "source": [
    "# group by Target Usage and list the combinations of CPU, RAM, and Type of Storage used where the target usage is Office\n",
    "Q4_2 = df[[\"CPU\", \"RAM\", \"Target Usage\", \"Type of Storage\"]].loc[(df[\"Target Usage\"] == \"Office\")].groupby(\"Target Usage\").value_counts(ascending=False)\n",
    "Q4_2"
   ]
  },
  {
   "cell_type": "code",
   "execution_count": 1272,
   "metadata": {},
   "outputs": [
    {
     "data": {
      "text/plain": [
       "Text(0.5, 1.0, 'Popularity of PC Spec Combinations for Office')"
      ]
     },
     "execution_count": 1272,
     "metadata": {},
     "output_type": "execute_result"
    },
    {
     "data": {
      "image/png": "[encoded data removed]",
      "text/plain": [
       "<Figure size 900x600 with 1 Axes>"
      ]
     },
     "metadata": {},
     "output_type": "display_data"
    }
   ],
   "source": [
    "Q4_2.plot(kind=\"barh\", figsize=(9,6)) # plot the bar chart\n",
    "plt.xlabel('Count of Usage')\n",
    "plt.ylabel('CPU, RAM, and Storage Type Used')\n",
    "plt.title('Popularity of PC Spec Combinations for Office')"
   ]
  },
  {
   "attachments": {},
   "cell_type": "markdown",
   "metadata": {},
   "source": [
    "## Conclusions"
   ]
  },
  {
   "attachments": {},
   "cell_type": "markdown",
   "metadata": {},
   "source": [
    "**Question 1: What CPU is mostly used in Gaming?** \n",
    "> The CPU used the most for Gaming is the **i9** with 7 items with it dedicated for gaming. This is then followed by **Ryzen 5 and 7** which both have 4 items dedicated for gaming. From these results, it could be seen that Ryzen is more dominant for gaming use but the i9 CPU is also competitive enough to be used for gaming setups.\n",
    "\n",
    "**Question 2: How much gigabyte of RAM is usually used by gamers?**\n",
    "> The RAM size mostly to be used by gamers is the **16GB RAM**, with 14 items containing it. Other than 16GB, only **8GB RAM** was discovered to be also used by gamers, with a total of 8 items having it. This result shows that gaming requires high RAM size in order to achieve high performance, with the minimum requirement at current being 8GB. \n",
    "\n",
    "**Question 3: What CPU is mostly used in Office works?**\n",
    "> The CPU mostly used in Office setups is the **Pentium**, with a total of 10 items with it. This is then followed by **Ryzen 5** with a total of 4 items using it. From such, it can be concluded that a low spec CPU such as the Intel Pentium is satisfactory enough for most office work and processes, especially when users are looking for good budget devices for work.\n",
    "\n",
    "**Question 4: What CPU, RAM, and Type of Storage combination/s are the most popular for Gaming? For Office?**\n",
    "> The most popular combination in terms of gaming include the **Ryzen 5, 16GB RAM, and an SSD Storage Type**, with a total of 4 items utilizing this combination of specifications. This is then followed the combination of **i9, 16GB RAM, and SSD Storage Type**. From these results, it could be seen that more users use Ryzen 5 over i9 as it can be considered a more budget option but still powerful enough to be used for gaming. However, this also shows that if users could afford it, they would go for a better performing option such as i9. Aside from the processor, gamers prefer the use of 16GB RAM as well as SSD rather than going for a budget setup of 8GB and HDD to increase their game performance and improve loading times.\n",
    "\n",
    "> In terms of office setups, the most popular combinations include the use of **Pentium processor and HDD Storage Type with 4GB RAM** or a combination with **8GB RAM** instead, with a total of 3 items used with each. This shows that in comparison with gaming setups, office setups have more variation or flexibility, as they have lower spec requirements. Aside from such, more users opt for budget friendly setups since they dont need more expensive, high performing hardware to perform office work."
   ]
  },
  {
   "attachments": {},
   "cell_type": "markdown",
   "metadata": {},
   "source": [
    "# Deep Learning Model"
   ]
  },
  {
   "attachments": {},
   "cell_type": "markdown",
   "metadata": {},
   "source": [
    "## Preprocessing of dataframe values for Deep Learning"
   ]
  },
  {
   "cell_type": "code",
   "execution_count": 1273,
   "metadata": {},
   "outputs": [
    {
     "data": {
      "text/html": [
       "<div>\n",
       "<style scoped>\n",
       "    .dataframe tbody tr th:only-of-type {\n",
       "        vertical-align: middle;\n",
       "    }\n",
       "\n",
       "    .dataframe tbody tr th {\n",
       "        vertical-align: top;\n",
       "    }\n",
       "\n",
       "    .dataframe thead th {\n",
       "        text-align: right;\n",
       "    }\n",
       "</style>\n",
       "<table border=\"1\" class=\"dataframe\">\n",
       "  <thead>\n",
       "    <tr style=\"text-align: right;\">\n",
       "      <th></th>\n",
       "      <th>ITEM NO.</th>\n",
       "      <th>CPU</th>\n",
       "      <th>RAM</th>\n",
       "      <th>Type of Storage</th>\n",
       "      <th>Storage Capacity</th>\n",
       "      <th>GPU</th>\n",
       "      <th>Target Usage</th>\n",
       "    </tr>\n",
       "  </thead>\n",
       "  <tbody>\n",
       "    <tr>\n",
       "      <th>0</th>\n",
       "      <td>2021-9301</td>\n",
       "      <td>Ryzen 5</td>\n",
       "      <td>4GB</td>\n",
       "      <td>SSD</td>\n",
       "      <td>500GB</td>\n",
       "      <td>NO</td>\n",
       "      <td>Office</td>\n",
       "    </tr>\n",
       "    <tr>\n",
       "      <th>1</th>\n",
       "      <td>2021-9302</td>\n",
       "      <td>Ryzen 5</td>\n",
       "      <td>16GB</td>\n",
       "      <td>SSD</td>\n",
       "      <td>500GB</td>\n",
       "      <td>6GB</td>\n",
       "      <td>Gaming</td>\n",
       "    </tr>\n",
       "    <tr>\n",
       "      <th>2</th>\n",
       "      <td>2021-9303</td>\n",
       "      <td>Ryzen 3</td>\n",
       "      <td>4GB</td>\n",
       "      <td>HDD</td>\n",
       "      <td>1TB</td>\n",
       "      <td>NO</td>\n",
       "      <td>Office</td>\n",
       "    </tr>\n",
       "    <tr>\n",
       "      <th>3</th>\n",
       "      <td>2021-9304</td>\n",
       "      <td>Ryzen 5</td>\n",
       "      <td>16GB</td>\n",
       "      <td>SSD</td>\n",
       "      <td>1TB</td>\n",
       "      <td>4GB</td>\n",
       "      <td>Gaming</td>\n",
       "    </tr>\n",
       "    <tr>\n",
       "      <th>4</th>\n",
       "      <td>2021-9305</td>\n",
       "      <td>Pentium</td>\n",
       "      <td>16GB</td>\n",
       "      <td>HDD</td>\n",
       "      <td>500GB</td>\n",
       "      <td>6GB</td>\n",
       "      <td>Office</td>\n",
       "    </tr>\n",
       "    <tr>\n",
       "      <th>6</th>\n",
       "      <td>2021-9307</td>\n",
       "      <td>Ryzen 5</td>\n",
       "      <td>4GB</td>\n",
       "      <td>HDD</td>\n",
       "      <td>1TB</td>\n",
       "      <td>NO</td>\n",
       "      <td>Office</td>\n",
       "    </tr>\n",
       "    <tr>\n",
       "      <th>7</th>\n",
       "      <td>2021-9308</td>\n",
       "      <td>i9</td>\n",
       "      <td>16GB</td>\n",
       "      <td>SSD</td>\n",
       "      <td>1TB</td>\n",
       "      <td>4GB</td>\n",
       "      <td>Gaming</td>\n",
       "    </tr>\n",
       "    <tr>\n",
       "      <th>8</th>\n",
       "      <td>2021-9309</td>\n",
       "      <td>i9</td>\n",
       "      <td>16GB</td>\n",
       "      <td>SSD</td>\n",
       "      <td>500GB</td>\n",
       "      <td>6GB</td>\n",
       "      <td>Gaming</td>\n",
       "    </tr>\n",
       "    <tr>\n",
       "      <th>9</th>\n",
       "      <td>2021-9310</td>\n",
       "      <td>Pentium</td>\n",
       "      <td>8GB</td>\n",
       "      <td>HDD</td>\n",
       "      <td>1TB</td>\n",
       "      <td>NO</td>\n",
       "      <td>Office</td>\n",
       "    </tr>\n",
       "    <tr>\n",
       "      <th>10</th>\n",
       "      <td>2021-9311</td>\n",
       "      <td>Ryzen 7</td>\n",
       "      <td>16GB</td>\n",
       "      <td>SSD</td>\n",
       "      <td>500GB</td>\n",
       "      <td>6GB</td>\n",
       "      <td>Gaming</td>\n",
       "    </tr>\n",
       "  </tbody>\n",
       "</table>\n",
       "</div>"
      ],
      "text/plain": [
       "     ITEM NO.      CPU   RAM Type of Storage Storage Capacity  GPU  \\\n",
       "0   2021-9301  Ryzen 5   4GB             SSD            500GB   NO   \n",
       "1   2021-9302  Ryzen 5  16GB             SSD            500GB  6GB   \n",
       "2   2021-9303  Ryzen 3   4GB             HDD              1TB   NO   \n",
       "3   2021-9304  Ryzen 5  16GB             SSD              1TB  4GB   \n",
       "4   2021-9305  Pentium  16GB             HDD            500GB  6GB   \n",
       "6   2021-9307  Ryzen 5   4GB             HDD              1TB   NO   \n",
       "7   2021-9308       i9  16GB             SSD              1TB  4GB   \n",
       "8   2021-9309       i9  16GB             SSD            500GB  6GB   \n",
       "9   2021-9310  Pentium   8GB             HDD              1TB   NO   \n",
       "10  2021-9311  Ryzen 7  16GB             SSD            500GB  6GB   \n",
       "\n",
       "   Target Usage  \n",
       "0        Office  \n",
       "1        Gaming  \n",
       "2        Office  \n",
       "3        Gaming  \n",
       "4        Office  \n",
       "6        Office  \n",
       "7        Gaming  \n",
       "8        Gaming  \n",
       "9        Office  \n",
       "10       Gaming  "
      ]
     },
     "execution_count": 1273,
     "metadata": {},
     "output_type": "execute_result"
    }
   ],
   "source": [
    "df.head(10)"
   ]
  },
  {
   "attachments": {},
   "cell_type": "markdown",
   "metadata": {},
   "source": [
    "### Column Value Names and Numerical Equivalent\n",
    "\n",
    "CPU\n",
    "> 0 = Pentium, 1 = i5, 2 = i7, 3 = i9, 4 = Ryzen 3, 5 = Ryzen 5, 6 = Ryzen 7\n",
    "\n",
    "RAM\n",
    "> 0 - 4GB, 1 - 8GB, 2 - 16GB\n",
    "\n",
    "Type of Storage\n",
    "> 0 - SSD, 1 - HDD\n",
    "\n",
    "Storage Capacity\n",
    "> 0 - 500GB, 1 - 1TB\n",
    "\n",
    "GPU\n",
    "> 0 - NO, 1 - 4GB, 2 - 6GB\n",
    "\n",
    "Target Usage\n",
    "> 0 - Gaming, 1 - Office"
   ]
  },
  {
   "cell_type": "code",
   "execution_count": 1274,
   "metadata": {},
   "outputs": [
    {
     "data": {
      "text/html": [
       "<div>\n",
       "<style scoped>\n",
       "    .dataframe tbody tr th:only-of-type {\n",
       "        vertical-align: middle;\n",
       "    }\n",
       "\n",
       "    .dataframe tbody tr th {\n",
       "        vertical-align: top;\n",
       "    }\n",
       "\n",
       "    .dataframe thead th {\n",
       "        text-align: right;\n",
       "    }\n",
       "</style>\n",
       "<table border=\"1\" class=\"dataframe\">\n",
       "  <thead>\n",
       "    <tr style=\"text-align: right;\">\n",
       "      <th></th>\n",
       "      <th>ITEM NO.</th>\n",
       "      <th>CPU</th>\n",
       "      <th>RAM</th>\n",
       "      <th>Type of Storage</th>\n",
       "      <th>Storage Capacity</th>\n",
       "      <th>GPU</th>\n",
       "      <th>Target Usage</th>\n",
       "    </tr>\n",
       "  </thead>\n",
       "  <tbody>\n",
       "    <tr>\n",
       "      <th>0</th>\n",
       "      <td>2021-9301</td>\n",
       "      <td>5</td>\n",
       "      <td>0</td>\n",
       "      <td>0</td>\n",
       "      <td>0</td>\n",
       "      <td>0</td>\n",
       "      <td>1</td>\n",
       "    </tr>\n",
       "    <tr>\n",
       "      <th>1</th>\n",
       "      <td>2021-9302</td>\n",
       "      <td>5</td>\n",
       "      <td>2</td>\n",
       "      <td>0</td>\n",
       "      <td>0</td>\n",
       "      <td>2</td>\n",
       "      <td>0</td>\n",
       "    </tr>\n",
       "    <tr>\n",
       "      <th>2</th>\n",
       "      <td>2021-9303</td>\n",
       "      <td>4</td>\n",
       "      <td>0</td>\n",
       "      <td>1</td>\n",
       "      <td>1</td>\n",
       "      <td>0</td>\n",
       "      <td>1</td>\n",
       "    </tr>\n",
       "    <tr>\n",
       "      <th>3</th>\n",
       "      <td>2021-9304</td>\n",
       "      <td>5</td>\n",
       "      <td>2</td>\n",
       "      <td>0</td>\n",
       "      <td>1</td>\n",
       "      <td>1</td>\n",
       "      <td>0</td>\n",
       "    </tr>\n",
       "    <tr>\n",
       "      <th>4</th>\n",
       "      <td>2021-9305</td>\n",
       "      <td>0</td>\n",
       "      <td>2</td>\n",
       "      <td>1</td>\n",
       "      <td>0</td>\n",
       "      <td>2</td>\n",
       "      <td>1</td>\n",
       "    </tr>\n",
       "    <tr>\n",
       "      <th>6</th>\n",
       "      <td>2021-9307</td>\n",
       "      <td>5</td>\n",
       "      <td>0</td>\n",
       "      <td>1</td>\n",
       "      <td>1</td>\n",
       "      <td>0</td>\n",
       "      <td>1</td>\n",
       "    </tr>\n",
       "    <tr>\n",
       "      <th>7</th>\n",
       "      <td>2021-9308</td>\n",
       "      <td>3</td>\n",
       "      <td>2</td>\n",
       "      <td>0</td>\n",
       "      <td>1</td>\n",
       "      <td>1</td>\n",
       "      <td>0</td>\n",
       "    </tr>\n",
       "    <tr>\n",
       "      <th>8</th>\n",
       "      <td>2021-9309</td>\n",
       "      <td>3</td>\n",
       "      <td>2</td>\n",
       "      <td>0</td>\n",
       "      <td>0</td>\n",
       "      <td>2</td>\n",
       "      <td>0</td>\n",
       "    </tr>\n",
       "    <tr>\n",
       "      <th>9</th>\n",
       "      <td>2021-9310</td>\n",
       "      <td>0</td>\n",
       "      <td>1</td>\n",
       "      <td>1</td>\n",
       "      <td>1</td>\n",
       "      <td>0</td>\n",
       "      <td>1</td>\n",
       "    </tr>\n",
       "    <tr>\n",
       "      <th>10</th>\n",
       "      <td>2021-9311</td>\n",
       "      <td>6</td>\n",
       "      <td>2</td>\n",
       "      <td>0</td>\n",
       "      <td>0</td>\n",
       "      <td>2</td>\n",
       "      <td>0</td>\n",
       "    </tr>\n",
       "  </tbody>\n",
       "</table>\n",
       "</div>"
      ],
      "text/plain": [
       "     ITEM NO.  CPU  RAM  Type of Storage  Storage Capacity  GPU  Target Usage\n",
       "0   2021-9301    5    0                0                 0    0             1\n",
       "1   2021-9302    5    2                0                 0    2             0\n",
       "2   2021-9303    4    0                1                 1    0             1\n",
       "3   2021-9304    5    2                0                 1    1             0\n",
       "4   2021-9305    0    2                1                 0    2             1\n",
       "6   2021-9307    5    0                1                 1    0             1\n",
       "7   2021-9308    3    2                0                 1    1             0\n",
       "8   2021-9309    3    2                0                 0    2             0\n",
       "9   2021-9310    0    1                1                 1    0             1\n",
       "10  2021-9311    6    2                0                 0    2             0"
      ]
     },
     "execution_count": 1274,
     "metadata": {},
     "output_type": "execute_result"
    }
   ],
   "source": [
    "# replace non-numerical values with numerical values\n",
    "\n",
    "df[\"CPU\"] = df[\"CPU\"].replace([\"Pentium\", \"i5\", \"i7\", \"i9\", \"Ryzen 3\", \"Ryzen 5\", \"Ryzen 7\"], [0, 1, 2, 3, 4, 5, 6])\n",
    "df[\"RAM\"] = df[\"RAM\"].replace([\"4GB\", \"8GB\", \"16GB\"], [0, 1, 2])\n",
    "df[\"Type of Storage\"] = df[\"Type of Storage\"].replace([\"SSD\", \"HDD\"], [0, 1])\n",
    "df[\"Storage Capacity\"] = df[\"Storage Capacity\"].replace([\"500GB\", \"1TB\"], [0, 1])   \n",
    "df[\"GPU\"] = df[\"GPU\"].replace([\"NO\", \"4GB\", \"6GB\"], [0, 1, 2])\n",
    "df[\"Target Usage\"] = df[\"Target Usage\"].replace([\"Gaming\", \"Office\"], [0, 1])\n",
    "\n",
    "df.head(10)"
   ]
  },
  {
   "attachments": {},
   "cell_type": "markdown",
   "metadata": {},
   "source": [
    "## Splitting the Data"
   ]
  },
  {
   "cell_type": "code",
   "execution_count": 1275,
   "metadata": {},
   "outputs": [],
   "source": [
    "from sklearn.model_selection import train_test_split\n",
    "\n",
    "X = df[[\"CPU\", \"RAM\", \"Type of Storage\", \"Storage Capacity\", \"GPU\"]].values.reshape(-1,5) # X variable to contain the specifications \n",
    "Y = df[\"Target Usage\"] # Y variable to contain the target usage\n",
    "\n",
    "# split the data into training and testing sets\n",
    "X_train, X_test, Y_train, Y_test = train_test_split(X, Y, test_size=0.2, random_state=0)"
   ]
  },
  {
   "cell_type": "code",
   "execution_count": 1276,
   "metadata": {},
   "outputs": [
    {
     "data": {
      "text/plain": [
       "((36, 5), (36,))"
      ]
     },
     "execution_count": 1276,
     "metadata": {},
     "output_type": "execute_result"
    }
   ],
   "source": [
    "X_train.shape, Y_train.shape # check the shape of the training set"
   ]
  },
  {
   "cell_type": "code",
   "execution_count": 1277,
   "metadata": {},
   "outputs": [
    {
     "data": {
      "text/plain": [
       "((10, 5), (10,))"
      ]
     },
     "execution_count": 1277,
     "metadata": {},
     "output_type": "execute_result"
    }
   ],
   "source": [
    "X_test.shape, Y_test.shape # check the shape of the testing set"
   ]
  },
  {
   "attachments": {},
   "cell_type": "markdown",
   "metadata": {},
   "source": [
    "## Defining the Model"
   ]
  },
  {
   "cell_type": "code",
   "execution_count": 1278,
   "metadata": {},
   "outputs": [],
   "source": [
    "# import the necessary libraries for the model\n",
    "import tensorflow as tf\n",
    "from tensorflow import keras\n",
    "from keras import layers"
   ]
  },
  {
   "cell_type": "code",
   "execution_count": 1482,
   "metadata": {},
   "outputs": [],
   "source": [
    "model = keras.Sequential() # create a sequential model\n",
    "model.add(layers.Dense(20, input_dim=5, activation='relu')) # add a dense layer with 20 neurons and relu activation function\n",
    "model.add(layers.Dense(1, activation='sigmoid')) # add an output layer with 1 neuron and sigmoid activation function"
   ]
  },
  {
   "attachments": {},
   "cell_type": "markdown",
   "metadata": {},
   "source": [
    "## Compiling and Fitting the Model"
   ]
  },
  {
   "cell_type": "code",
   "execution_count": 1483,
   "metadata": {},
   "outputs": [
    {
     "name": "stdout",
     "output_type": "stream",
     "text": [
      "Epoch 1/100\n",
      "1/1 [==============================] - 1s 633ms/step - loss: 0.9781 - accuracy: 0.5000 - val_loss: 1.1611 - val_accuracy: 0.3750\n",
      "Epoch 2/100\n",
      "1/1 [==============================] - 0s 40ms/step - loss: 0.9637 - accuracy: 0.5000 - val_loss: 1.1416 - val_accuracy: 0.3750\n",
      "Epoch 3/100\n",
      "1/1 [==============================] - 0s 54ms/step - loss: 0.9497 - accuracy: 0.5000 - val_loss: 1.1225 - val_accuracy: 0.3750\n",
      "Epoch 4/100\n",
      "1/1 [==============================] - 0s 60ms/step - loss: 0.9359 - accuracy: 0.5000 - val_loss: 1.1039 - val_accuracy: 0.3750\n",
      "Epoch 5/100\n",
      "1/1 [==============================] - 0s 50ms/step - loss: 0.9224 - accuracy: 0.5000 - val_loss: 1.0853 - val_accuracy: 0.3750\n",
      "Epoch 6/100\n",
      "1/1 [==============================] - 0s 44ms/step - loss: 0.9090 - accuracy: 0.5000 - val_loss: 1.0674 - val_accuracy: 0.3750\n",
      "Epoch 7/100\n",
      "1/1 [==============================] - 0s 49ms/step - loss: 0.8960 - accuracy: 0.5000 - val_loss: 1.0500 - val_accuracy: 0.3750\n",
      "Epoch 8/100\n",
      "1/1 [==============================] - 0s 70ms/step - loss: 0.8833 - accuracy: 0.5000 - val_loss: 1.0328 - val_accuracy: 0.3750\n",
      "Epoch 9/100\n",
      "1/1 [==============================] - 0s 59ms/step - loss: 0.8710 - accuracy: 0.5000 - val_loss: 1.0160 - val_accuracy: 0.3750\n",
      "Epoch 10/100\n",
      "1/1 [==============================] - 0s 74ms/step - loss: 0.8589 - accuracy: 0.5000 - val_loss: 0.9996 - val_accuracy: 0.3750\n",
      "Epoch 11/100\n",
      "1/1 [==============================] - 0s 93ms/step - loss: 0.8471 - accuracy: 0.5000 - val_loss: 0.9835 - val_accuracy: 0.3750\n",
      "Epoch 12/100\n",
      "1/1 [==============================] - 0s 92ms/step - loss: 0.8356 - accuracy: 0.5000 - val_loss: 0.9677 - val_accuracy: 0.3750\n",
      "Epoch 13/100\n",
      "1/1 [==============================] - 0s 80ms/step - loss: 0.8243 - accuracy: 0.5000 - val_loss: 0.9523 - val_accuracy: 0.3750\n",
      "Epoch 14/100\n",
      "1/1 [==============================] - 0s 55ms/step - loss: 0.8134 - accuracy: 0.5000 - val_loss: 0.9373 - val_accuracy: 0.3750\n",
      "Epoch 15/100\n",
      "1/1 [==============================] - 0s 46ms/step - loss: 0.8026 - accuracy: 0.5000 - val_loss: 0.9226 - val_accuracy: 0.3750\n",
      "Epoch 16/100\n",
      "1/1 [==============================] - 0s 32ms/step - loss: 0.7922 - accuracy: 0.5000 - val_loss: 0.9083 - val_accuracy: 0.3750\n",
      "Epoch 17/100\n",
      "1/1 [==============================] - 0s 40ms/step - loss: 0.7820 - accuracy: 0.5000 - val_loss: 0.8944 - val_accuracy: 0.3750\n",
      "Epoch 18/100\n",
      "1/1 [==============================] - 0s 41ms/step - loss: 0.7722 - accuracy: 0.5000 - val_loss: 0.8808 - val_accuracy: 0.3750\n",
      "Epoch 19/100\n",
      "1/1 [==============================] - 0s 39ms/step - loss: 0.7626 - accuracy: 0.5000 - val_loss: 0.8676 - val_accuracy: 0.3750\n",
      "Epoch 20/100\n",
      "1/1 [==============================] - 0s 52ms/step - loss: 0.7533 - accuracy: 0.5000 - val_loss: 0.8547 - val_accuracy: 0.3750\n",
      "Epoch 21/100\n",
      "1/1 [==============================] - 0s 34ms/step - loss: 0.7444 - accuracy: 0.4643 - val_loss: 0.8423 - val_accuracy: 0.3750\n",
      "Epoch 22/100\n",
      "1/1 [==============================] - 0s 34ms/step - loss: 0.7357 - accuracy: 0.4643 - val_loss: 0.8304 - val_accuracy: 0.3750\n",
      "Epoch 23/100\n",
      "1/1 [==============================] - 0s 36ms/step - loss: 0.7272 - accuracy: 0.4643 - val_loss: 0.8188 - val_accuracy: 0.2500\n",
      "Epoch 24/100\n",
      "1/1 [==============================] - 0s 41ms/step - loss: 0.7190 - accuracy: 0.4643 - val_loss: 0.8074 - val_accuracy: 0.2500\n",
      "Epoch 25/100\n",
      "1/1 [==============================] - 0s 40ms/step - loss: 0.7109 - accuracy: 0.4643 - val_loss: 0.7962 - val_accuracy: 0.2500\n",
      "Epoch 26/100\n",
      "1/1 [==============================] - 0s 43ms/step - loss: 0.7031 - accuracy: 0.4643 - val_loss: 0.7853 - val_accuracy: 0.2500\n",
      "Epoch 27/100\n",
      "1/1 [==============================] - 0s 43ms/step - loss: 0.6955 - accuracy: 0.4643 - val_loss: 0.7748 - val_accuracy: 0.2500\n",
      "Epoch 28/100\n",
      "1/1 [==============================] - 0s 30ms/step - loss: 0.6881 - accuracy: 0.4643 - val_loss: 0.7644 - val_accuracy: 0.2500\n",
      "Epoch 29/100\n",
      "1/1 [==============================] - 0s 39ms/step - loss: 0.6808 - accuracy: 0.4643 - val_loss: 0.7541 - val_accuracy: 0.2500\n",
      "Epoch 30/100\n",
      "1/1 [==============================] - 0s 41ms/step - loss: 0.6736 - accuracy: 0.4286 - val_loss: 0.7439 - val_accuracy: 0.2500\n",
      "Epoch 31/100\n",
      "1/1 [==============================] - 0s 33ms/step - loss: 0.6667 - accuracy: 0.4286 - val_loss: 0.7341 - val_accuracy: 0.2500\n",
      "Epoch 32/100\n",
      "1/1 [==============================] - 0s 37ms/step - loss: 0.6599 - accuracy: 0.4643 - val_loss: 0.7246 - val_accuracy: 0.2500\n",
      "Epoch 33/100\n",
      "1/1 [==============================] - 0s 28ms/step - loss: 0.6533 - accuracy: 0.4286 - val_loss: 0.7154 - val_accuracy: 0.1250\n",
      "Epoch 34/100\n",
      "1/1 [==============================] - 0s 38ms/step - loss: 0.6469 - accuracy: 0.4286 - val_loss: 0.7065 - val_accuracy: 0.2500\n",
      "Epoch 35/100\n",
      "1/1 [==============================] - 0s 32ms/step - loss: 0.6407 - accuracy: 0.4643 - val_loss: 0.6979 - val_accuracy: 0.3750\n",
      "Epoch 36/100\n",
      "1/1 [==============================] - 0s 36ms/step - loss: 0.6346 - accuracy: 0.5714 - val_loss: 0.6895 - val_accuracy: 0.3750\n",
      "Epoch 37/100\n",
      "1/1 [==============================] - 0s 37ms/step - loss: 0.6288 - accuracy: 0.6429 - val_loss: 0.6814 - val_accuracy: 0.5000\n",
      "Epoch 38/100\n",
      "1/1 [==============================] - 0s 45ms/step - loss: 0.6231 - accuracy: 0.6429 - val_loss: 0.6736 - val_accuracy: 0.5000\n",
      "Epoch 39/100\n",
      "1/1 [==============================] - 0s 50ms/step - loss: 0.6175 - accuracy: 0.7500 - val_loss: 0.6660 - val_accuracy: 0.5000\n",
      "Epoch 40/100\n",
      "1/1 [==============================] - 0s 44ms/step - loss: 0.6121 - accuracy: 0.7500 - val_loss: 0.6587 - val_accuracy: 0.5000\n",
      "Epoch 41/100\n",
      "1/1 [==============================] - 0s 38ms/step - loss: 0.6068 - accuracy: 0.8214 - val_loss: 0.6516 - val_accuracy: 0.7500\n",
      "Epoch 42/100\n",
      "1/1 [==============================] - 0s 35ms/step - loss: 0.6016 - accuracy: 0.8214 - val_loss: 0.6448 - val_accuracy: 0.7500\n",
      "Epoch 43/100\n",
      "1/1 [==============================] - 0s 36ms/step - loss: 0.5966 - accuracy: 0.8214 - val_loss: 0.6382 - val_accuracy: 0.7500\n",
      "Epoch 44/100\n",
      "1/1 [==============================] - 0s 50ms/step - loss: 0.5917 - accuracy: 0.8214 - val_loss: 0.6318 - val_accuracy: 0.7500\n",
      "Epoch 45/100\n",
      "1/1 [==============================] - 0s 32ms/step - loss: 0.5869 - accuracy: 0.8571 - val_loss: 0.6256 - val_accuracy: 0.7500\n",
      "Epoch 46/100\n",
      "1/1 [==============================] - 0s 37ms/step - loss: 0.5822 - accuracy: 0.8571 - val_loss: 0.6196 - val_accuracy: 0.7500\n",
      "Epoch 47/100\n",
      "1/1 [==============================] - 0s 30ms/step - loss: 0.5777 - accuracy: 0.8571 - val_loss: 0.6139 - val_accuracy: 0.7500\n",
      "Epoch 48/100\n",
      "1/1 [==============================] - 0s 48ms/step - loss: 0.5732 - accuracy: 0.8571 - val_loss: 0.6083 - val_accuracy: 0.7500\n",
      "Epoch 49/100\n",
      "1/1 [==============================] - 0s 36ms/step - loss: 0.5689 - accuracy: 0.8571 - val_loss: 0.6029 - val_accuracy: 0.7500\n",
      "Epoch 50/100\n",
      "1/1 [==============================] - 0s 37ms/step - loss: 0.5647 - accuracy: 0.8571 - val_loss: 0.5977 - val_accuracy: 0.7500\n",
      "Epoch 51/100\n",
      "1/1 [==============================] - 0s 45ms/step - loss: 0.5605 - accuracy: 0.8571 - val_loss: 0.5926 - val_accuracy: 0.7500\n",
      "Epoch 52/100\n",
      "1/1 [==============================] - 0s 46ms/step - loss: 0.5564 - accuracy: 0.8571 - val_loss: 0.5877 - val_accuracy: 0.7500\n",
      "Epoch 53/100\n",
      "1/1 [==============================] - 0s 35ms/step - loss: 0.5524 - accuracy: 0.8571 - val_loss: 0.5829 - val_accuracy: 0.7500\n",
      "Epoch 54/100\n",
      "1/1 [==============================] - 0s 35ms/step - loss: 0.5484 - accuracy: 0.8571 - val_loss: 0.5783 - val_accuracy: 0.7500\n",
      "Epoch 55/100\n",
      "1/1 [==============================] - 0s 40ms/step - loss: 0.5446 - accuracy: 0.8571 - val_loss: 0.5738 - val_accuracy: 0.7500\n",
      "Epoch 56/100\n",
      "1/1 [==============================] - 0s 28ms/step - loss: 0.5408 - accuracy: 0.8571 - val_loss: 0.5693 - val_accuracy: 0.7500\n",
      "Epoch 57/100\n",
      "1/1 [==============================] - 0s 42ms/step - loss: 0.5371 - accuracy: 0.8571 - val_loss: 0.5650 - val_accuracy: 0.7500\n",
      "Epoch 58/100\n",
      "1/1 [==============================] - 0s 34ms/step - loss: 0.5334 - accuracy: 0.8571 - val_loss: 0.5608 - val_accuracy: 0.7500\n",
      "Epoch 59/100\n",
      "1/1 [==============================] - 0s 37ms/step - loss: 0.5298 - accuracy: 0.8571 - val_loss: 0.5568 - val_accuracy: 0.7500\n",
      "Epoch 60/100\n",
      "1/1 [==============================] - 0s 30ms/step - loss: 0.5262 - accuracy: 0.8571 - val_loss: 0.5528 - val_accuracy: 0.7500\n",
      "Epoch 61/100\n",
      "1/1 [==============================] - 0s 45ms/step - loss: 0.5227 - accuracy: 0.8571 - val_loss: 0.5489 - val_accuracy: 0.7500\n",
      "Epoch 62/100\n",
      "1/1 [==============================] - 0s 31ms/step - loss: 0.5192 - accuracy: 0.8571 - val_loss: 0.5451 - val_accuracy: 0.7500\n",
      "Epoch 63/100\n",
      "1/1 [==============================] - 0s 37ms/step - loss: 0.5158 - accuracy: 0.8571 - val_loss: 0.5413 - val_accuracy: 0.7500\n",
      "Epoch 64/100\n",
      "1/1 [==============================] - 0s 29ms/step - loss: 0.5124 - accuracy: 0.8571 - val_loss: 0.5377 - val_accuracy: 0.7500\n",
      "Epoch 65/100\n",
      "1/1 [==============================] - 0s 42ms/step - loss: 0.5091 - accuracy: 0.8571 - val_loss: 0.5341 - val_accuracy: 0.7500\n",
      "Epoch 66/100\n",
      "1/1 [==============================] - 0s 30ms/step - loss: 0.5058 - accuracy: 0.8571 - val_loss: 0.5307 - val_accuracy: 0.7500\n",
      "Epoch 67/100\n",
      "1/1 [==============================] - 0s 45ms/step - loss: 0.5025 - accuracy: 0.8571 - val_loss: 0.5273 - val_accuracy: 0.7500\n",
      "Epoch 68/100\n",
      "1/1 [==============================] - 0s 39ms/step - loss: 0.4993 - accuracy: 0.8571 - val_loss: 0.5241 - val_accuracy: 0.7500\n",
      "Epoch 69/100\n",
      "1/1 [==============================] - 0s 37ms/step - loss: 0.4960 - accuracy: 0.8571 - val_loss: 0.5209 - val_accuracy: 0.7500\n",
      "Epoch 70/100\n",
      "1/1 [==============================] - 0s 32ms/step - loss: 0.4928 - accuracy: 0.8571 - val_loss: 0.5177 - val_accuracy: 0.7500\n",
      "Epoch 71/100\n",
      "1/1 [==============================] - 0s 36ms/step - loss: 0.4896 - accuracy: 0.8571 - val_loss: 0.5147 - val_accuracy: 0.7500\n",
      "Epoch 72/100\n",
      "1/1 [==============================] - 0s 28ms/step - loss: 0.4864 - accuracy: 0.8571 - val_loss: 0.5116 - val_accuracy: 0.7500\n",
      "Epoch 73/100\n",
      "1/1 [==============================] - 0s 37ms/step - loss: 0.4832 - accuracy: 0.8571 - val_loss: 0.5086 - val_accuracy: 0.7500\n",
      "Epoch 74/100\n",
      "1/1 [==============================] - 0s 34ms/step - loss: 0.4800 - accuracy: 0.8571 - val_loss: 0.5056 - val_accuracy: 0.7500\n",
      "Epoch 75/100\n",
      "1/1 [==============================] - 0s 29ms/step - loss: 0.4768 - accuracy: 0.8571 - val_loss: 0.5027 - val_accuracy: 0.7500\n",
      "Epoch 76/100\n",
      "1/1 [==============================] - 0s 39ms/step - loss: 0.4737 - accuracy: 0.8571 - val_loss: 0.4998 - val_accuracy: 0.7500\n",
      "Epoch 77/100\n",
      "1/1 [==============================] - 0s 31ms/step - loss: 0.4705 - accuracy: 0.8571 - val_loss: 0.4970 - val_accuracy: 0.7500\n",
      "Epoch 78/100\n",
      "1/1 [==============================] - 0s 38ms/step - loss: 0.4674 - accuracy: 0.8571 - val_loss: 0.4942 - val_accuracy: 0.7500\n",
      "Epoch 79/100\n",
      "1/1 [==============================] - 0s 30ms/step - loss: 0.4644 - accuracy: 0.8571 - val_loss: 0.4914 - val_accuracy: 0.7500\n",
      "Epoch 80/100\n",
      "1/1 [==============================] - 0s 41ms/step - loss: 0.4613 - accuracy: 0.8571 - val_loss: 0.4887 - val_accuracy: 0.7500\n",
      "Epoch 81/100\n",
      "1/1 [==============================] - 0s 29ms/step - loss: 0.4583 - accuracy: 0.8571 - val_loss: 0.4860 - val_accuracy: 0.7500\n",
      "Epoch 82/100\n",
      "1/1 [==============================] - 0s 51ms/step - loss: 0.4552 - accuracy: 0.8571 - val_loss: 0.4833 - val_accuracy: 0.7500\n",
      "Epoch 83/100\n",
      "1/1 [==============================] - 0s 33ms/step - loss: 0.4522 - accuracy: 0.8571 - val_loss: 0.4806 - val_accuracy: 0.7500\n",
      "Epoch 84/100\n",
      "1/1 [==============================] - 0s 47ms/step - loss: 0.4492 - accuracy: 0.8571 - val_loss: 0.4780 - val_accuracy: 0.7500\n",
      "Epoch 85/100\n",
      "1/1 [==============================] - 0s 55ms/step - loss: 0.4463 - accuracy: 0.8571 - val_loss: 0.4754 - val_accuracy: 0.7500\n",
      "Epoch 86/100\n",
      "1/1 [==============================] - 0s 44ms/step - loss: 0.4433 - accuracy: 0.8571 - val_loss: 0.4728 - val_accuracy: 0.7500\n",
      "Epoch 87/100\n",
      "1/1 [==============================] - 0s 37ms/step - loss: 0.4404 - accuracy: 0.8571 - val_loss: 0.4702 - val_accuracy: 0.7500\n",
      "Epoch 88/100\n",
      "1/1 [==============================] - 0s 47ms/step - loss: 0.4375 - accuracy: 0.8571 - val_loss: 0.4677 - val_accuracy: 0.7500\n",
      "Epoch 89/100\n",
      "1/1 [==============================] - 0s 42ms/step - loss: 0.4346 - accuracy: 0.8571 - val_loss: 0.4651 - val_accuracy: 0.7500\n",
      "Epoch 90/100\n",
      "1/1 [==============================] - 0s 50ms/step - loss: 0.4317 - accuracy: 0.8571 - val_loss: 0.4626 - val_accuracy: 0.7500\n",
      "Epoch 91/100\n",
      "1/1 [==============================] - 0s 43ms/step - loss: 0.4289 - accuracy: 0.8571 - val_loss: 0.4601 - val_accuracy: 0.7500\n",
      "Epoch 92/100\n",
      "1/1 [==============================] - 0s 57ms/step - loss: 0.4260 - accuracy: 0.8571 - val_loss: 0.4576 - val_accuracy: 0.7500\n",
      "Epoch 93/100\n",
      "1/1 [==============================] - 0s 44ms/step - loss: 0.4231 - accuracy: 0.8571 - val_loss: 0.4550 - val_accuracy: 0.7500\n",
      "Epoch 94/100\n",
      "1/1 [==============================] - 0s 36ms/step - loss: 0.4202 - accuracy: 0.8571 - val_loss: 0.4525 - val_accuracy: 0.7500\n",
      "Epoch 95/100\n",
      "1/1 [==============================] - 0s 36ms/step - loss: 0.4174 - accuracy: 0.8571 - val_loss: 0.4500 - val_accuracy: 0.7500\n",
      "Epoch 96/100\n",
      "1/1 [==============================] - 0s 38ms/step - loss: 0.4145 - accuracy: 0.8571 - val_loss: 0.4474 - val_accuracy: 0.7500\n",
      "Epoch 97/100\n",
      "1/1 [==============================] - 0s 43ms/step - loss: 0.4116 - accuracy: 0.8571 - val_loss: 0.4449 - val_accuracy: 0.7500\n",
      "Epoch 98/100\n",
      "1/1 [==============================] - 0s 53ms/step - loss: 0.4088 - accuracy: 0.8571 - val_loss: 0.4423 - val_accuracy: 0.7500\n",
      "Epoch 99/100\n",
      "1/1 [==============================] - 0s 32ms/step - loss: 0.4059 - accuracy: 0.8929 - val_loss: 0.4398 - val_accuracy: 0.7500\n",
      "Epoch 100/100\n",
      "1/1 [==============================] - 0s 38ms/step - loss: 0.4031 - accuracy: 0.8929 - val_loss: 0.4373 - val_accuracy: 0.8750\n"
     ]
    }
   ],
   "source": [
    "model.compile(loss='binary_crossentropy', optimizer='adam', metrics=['accuracy']) # compile the model with parameters for binary classification\n",
    "history = model.fit(X_train, Y_train, validation_split=0.20, epochs=100) # fit the model with the training set"
   ]
  },
  {
   "attachments": {},
   "cell_type": "markdown",
   "metadata": {},
   "source": [
    "## Evaluating the Model"
   ]
  },
  {
   "cell_type": "code",
   "execution_count": 1484,
   "metadata": {},
   "outputs": [
    {
     "name": "stdout",
     "output_type": "stream",
     "text": [
      "1/1 [==============================] - 0s 26ms/step - loss: 0.5230 - accuracy: 0.7000\n"
     ]
    },
    {
     "data": {
      "text/plain": [
       "[0.523011326789856, 0.699999988079071]"
      ]
     },
     "execution_count": 1484,
     "metadata": {},
     "output_type": "execute_result"
    }
   ],
   "source": [
    "model.evaluate(X_test, Y_test) # evaluate the model with the testing set"
   ]
  },
  {
   "cell_type": "code",
   "execution_count": 1485,
   "metadata": {},
   "outputs": [
    {
     "name": "stdout",
     "output_type": "stream",
     "text": [
      "2/2 [==============================] - 0s 3ms/step - loss: 0.4085 - accuracy: 0.8889\n"
     ]
    },
    {
     "data": {
      "text/plain": [
       "[0.40852445363998413, 0.8888888955116272]"
      ]
     },
     "execution_count": 1485,
     "metadata": {},
     "output_type": "execute_result"
    }
   ],
   "source": [
    "model.evaluate(X_train, Y_train) # evaluate the model with the training set"
   ]
  },
  {
   "attachments": {},
   "cell_type": "markdown",
   "metadata": {},
   "source": [
    "## Saving the Model"
   ]
  },
  {
   "cell_type": "code",
   "execution_count": 1486,
   "metadata": {},
   "outputs": [],
   "source": [
    "model.save(\"spec_dataset_model.h5\") # save the model"
   ]
  },
  {
   "attachments": {},
   "cell_type": "markdown",
   "metadata": {},
   "source": [
    "## Confusion Matrix"
   ]
  },
  {
   "cell_type": "code",
   "execution_count": 1487,
   "metadata": {},
   "outputs": [
    {
     "name": "stdout",
     "output_type": "stream",
     "text": [
      "1/1 [==============================] - 0s 78ms/step\n"
     ]
    }
   ],
   "source": [
    "import sklearn\n",
    "from sklearn.metrics import confusion_matrix # import the confusion matrix function\n",
    "Y_pred = (model.predict(X_test)>0.50).astype(\"int32\") # predict the target usage for the testing set"
   ]
  },
  {
   "cell_type": "code",
   "execution_count": 1488,
   "metadata": {},
   "outputs": [
    {
     "data": {
      "text/plain": [
       "array([[3, 0],\n",
       "       [3, 4]], dtype=int64)"
      ]
     },
     "execution_count": 1488,
     "metadata": {},
     "output_type": "execute_result"
    }
   ],
   "source": [
    "confusion_matrix(Y_test, Y_pred) # create the confusion matrix, with 10 instances in test data\n",
    "# 7 correctly classified and 3 incorrectly classified"
   ]
  },
  {
   "attachments": {},
   "cell_type": "markdown",
   "metadata": {},
   "source": [
    "## Prediction"
   ]
  },
  {
   "cell_type": "code",
   "execution_count": 1489,
   "metadata": {},
   "outputs": [
    {
     "name": "stdout",
     "output_type": "stream",
     "text": [
      "1/1 [==============================] - 0s 67ms/step\n"
     ]
    },
    {
     "data": {
      "text/plain": [
       "array([[0]])"
      ]
     },
     "execution_count": 1489,
     "metadata": {},
     "output_type": "execute_result"
    }
   ],
   "source": [
    "from numpy import array\n",
    "\n",
    "features = np.array([[5, 2, 0, 0, 2]]) # array of values with a target value of 0 - Gaming\n",
    "# 5 - Ryzen 5, 2 - 16GB RAM, 0 - SSD, 0 - 500GB Storage, 2 - 6GB GPU\n",
    "\n",
    "Y_new = (model.predict(features)>0.50).astype(\"int32\") # predict the target usage for the new features\n",
    "Y_new"
   ]
  },
  {
   "cell_type": "code",
   "execution_count": 1490,
   "metadata": {},
   "outputs": [
    {
     "name": "stdout",
     "output_type": "stream",
     "text": [
      "1/1 [==============================] - 0s 86ms/step\n",
      "[[1]]\n"
     ]
    }
   ],
   "source": [
    "features = np.array([[4, 0, 1, 1, 0]]) # array of values with a target value of 1 - Office\n",
    "# 4 - Ryzen 3, 0 - 4GB RAM, 1 - HDD, 1 - 1TB Storage, 0 - NO GPU\n",
    "\n",
    "Pred = keras.models.load_model(\"spec_dataset_model.h5\") # load the model\n",
    "print((Pred.predict(features)>0.50).astype(\"int32\")) # predict the target usage for the new features"
   ]
  },
  {
   "attachments": {},
   "cell_type": "markdown",
   "metadata": {},
   "source": [
    "## Plotting the Model Training"
   ]
  },
  {
   "cell_type": "code",
   "execution_count": 1492,
   "metadata": {},
   "outputs": [
    {
     "data": {
      "image/png": "[encoded data removed]",
      "text/plain": [
       "<Figure size 640x480 with 1 Axes>"
      ]
     },
     "metadata": {},
     "output_type": "display_data"
    }
   ],
   "source": [
    "# plot the training and validation loss\n",
    "plt.plot(history.history['loss'], label='loss')\n",
    "plt.plot(history.history['val_loss'], label='val_loss')\n",
    "plt.title(\"Model Loss\")\n",
    "plt.ylabel(\"Loss\")\n",
    "plt.xlabel(\"Epochs\")\n",
    "plt.legend([\"Training\", \"Validation\"], loc=\"upper left\")\n",
    "plt.show()"
   ]
  }
 ],
 "metadata": {
  "kernelspec": {
   "display_name": "Python 3",
   "language": "python",
   "name": "python3"
  },
  "language_info": {
   "codemirror_mode": {
    "name": "ipython",
    "version": 3
   },
   "file_extension": ".py",
   "mimetype": "text/x-python",
   "name": "python",
   "nbconvert_exporter": "python",
   "pygments_lexer": "ipython3",
   "version": "3.10.4"
  },
  "orig_nbformat": 4,
  "vscode": {
   "interpreter": {
    "hash": "369f2c481f4da34e4445cda3fffd2e751bd1c4d706f27375911949ba6bb62e1c"
   }
  }
 },
 "nbformat": 4,
 "nbformat_minor": 2
}
